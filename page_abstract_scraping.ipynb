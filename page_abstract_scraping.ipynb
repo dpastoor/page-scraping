{
 "metadata": {
  "name": "",
  "signature": "sha256:3244974dc76783e60045b8ccbce17eea492a1d72cd3801a7b1e0e31f30cd9f93"
 },
 "nbformat": 3,
 "nbformat_minor": 0,
 "worksheets": [
  {
   "cells": [
    {
     "cell_type": "code",
     "collapsed": false,
     "input": [
      "import requests\n",
      "import string\n",
      "from bs4 import BeautifulSoup\n",
      "import re\n",
      "from urllib.request import urlopen\n",
      "import urllib.parse\n",
      "from requests.exceptions import HTTPError"
     ],
     "language": "python",
     "metadata": {},
     "outputs": [],
     "prompt_number": 432
    },
    {
     "cell_type": "code",
     "collapsed": false,
     "input": [
      "req_website = requests.get(\"http://www.page-meeting.org/\")"
     ],
     "language": "python",
     "metadata": {},
     "outputs": [],
     "prompt_number": 4
    },
    {
     "cell_type": "code",
     "collapsed": false,
     "input": [
      "req_abstract = requests.get(\"http://www.page-meeting.org/default.asp?keuze=abstracts&m=category&id=37\")"
     ],
     "language": "python",
     "metadata": {},
     "outputs": [],
     "prompt_number": 78
    },
    {
     "cell_type": "code",
     "collapsed": false,
     "input": [
      "#req_abstract.content"
     ],
     "language": "python",
     "metadata": {},
     "outputs": [],
     "prompt_number": 473
    },
    {
     "cell_type": "code",
     "collapsed": false,
     "input": [
      "soup = BeautifulSoup(req_abstract.content)"
     ],
     "language": "python",
     "metadata": {},
     "outputs": [],
     "prompt_number": 82
    },
    {
     "cell_type": "code",
     "collapsed": false,
     "input": [
      "all_links = soup.find_all(\"a\")"
     ],
     "language": "python",
     "metadata": {},
     "outputs": [],
     "prompt_number": 90
    },
    {
     "cell_type": "code",
     "collapsed": false,
     "input": [
      "#for link in all_links:\n",
      "#    print(link.get('href'))"
     ],
     "language": "python",
     "metadata": {},
     "outputs": [],
     "prompt_number": 474
    },
    {
     "cell_type": "markdown",
     "metadata": {},
     "source": [
      "want to extract out only the poster sessions"
     ]
    },
    {
     "cell_type": "code",
     "collapsed": false,
     "input": [
      "poster_links = []\n",
      "for link in all_links:\n",
      "    if re.search(\"Poster\", link.get('href')):\n",
      "        poster_links.append(link.get('href'))\n",
      "    else: next\n",
      "\n",
      "        \n"
     ],
     "language": "python",
     "metadata": {},
     "outputs": [],
     "prompt_number": 128
    },
    {
     "cell_type": "code",
     "collapsed": false,
     "input": [
      "re.sub('\\s', \"%20\", poster_links[0])"
     ],
     "language": "python",
     "metadata": {},
     "outputs": [
      {
       "metadata": {},
       "output_type": "pyout",
       "prompt_number": 129,
       "text": [
        "'?keuze=abstracts&id=37&t=category&m=Poster:%20Absorption%20and%20Physiology-Based%20PK'"
       ]
      }
     ],
     "prompt_number": 129
    },
    {
     "cell_type": "code",
     "collapsed": false,
     "input": [
      "test_poster = \"http://www.page-meeting.org/default.asp\" + re.sub('\\s', \"%20\", poster_links[0])"
     ],
     "language": "python",
     "metadata": {},
     "outputs": [],
     "prompt_number": 135
    },
    {
     "cell_type": "code",
     "collapsed": false,
     "input": [],
     "language": "python",
     "metadata": {},
     "outputs": []
    },
    {
     "cell_type": "code",
     "collapsed": false,
     "input": [
      "request_single = requests.get(test_poster)"
     ],
     "language": "python",
     "metadata": {},
     "outputs": [],
     "prompt_number": 136
    },
    {
     "cell_type": "code",
     "collapsed": false,
     "input": [
      "soup_single = BeautifulSoup(request_single.content)"
     ],
     "language": "python",
     "metadata": {},
     "outputs": [],
     "prompt_number": 137
    },
    {
     "cell_type": "code",
     "collapsed": false,
     "input": [
      "#soup_single"
     ],
     "language": "python",
     "metadata": {},
     "outputs": [],
     "prompt_number": 475
    },
    {
     "cell_type": "code",
     "collapsed": false,
     "input": [
      "# elements are in 'even' and 'uneven' based on color scheme so can \n",
      "# just extract both eventually\n",
      "evens = soup_single.find_all('tr', 'even')"
     ],
     "language": "python",
     "metadata": {},
     "outputs": [],
     "prompt_number": 147
    },
    {
     "cell_type": "code",
     "collapsed": false,
     "input": [
      "for link in evens:\n",
      "    print(link)"
     ],
     "language": "python",
     "metadata": {},
     "outputs": [
      {
       "output_type": "stream",
       "stream": "stdout",
       "text": [
        "<tr class=\"even\" onclick=\"location.href='?abstract=2757'\"><td class=\"col1\">I-05 Rachel  Rose<br/><strong>Application of a Physiologically Based Pharmacokinetic/Pharmacodynamic (PBPK/PD) Model to Investigate the Effect of OATP1B1 Genotypes on the Cholesterol Synthesis Inhibitory Effect of Rosuvastatin</strong><br/>Wednesday 10:05-11:40</td></tr>\n",
        "<tr class=\"even\" onclick=\"location.href='?abstract=2739'\"><td class=\"col1\">I-37 Nikolaos Tsamandouras<br/><strong>A mechanistic population pharmacokinetic model for simvastatin and its active metabolite simvastatin acid</strong><br/>Wednesday 10:05-11:40</td></tr>\n",
        "<tr class=\"even\" onclick=\"location.href='?abstract=2694'\"><td class=\"col1\">I-46 Nieves Velez de Mendizabal<br/><strong>A Population PK Model For Citalopram And Its Major Metabolite, N-desmethyl Citalopram, In Rats</strong><br/>Wednesday 10:05-11:40</td></tr>\n",
        "<tr class=\"even\" onclick=\"location.href='?abstract=2796'\"><td class=\"col1\">II-05 Mike Dunlavey<br/><strong>Support in PML for Absorption Time Lag via Transit Compartments</strong><br/>Wednesday 14:50-16:20</td></tr>\n",
        "<tr class=\"even\" onclick=\"location.href='?abstract=2860'\"><td class=\"col1\">II-55 Rasmus Juul<br/><strong>Pharmacokinetic modelling as a tool to assess transporter involvement in vigabatrin absorption</strong><br/>Wednesday 14:50-16:20</td></tr>\n",
        "<tr class=\"even\" onclick=\"location.href='?abstract=2695'\"><td class=\"col1\">III-49 Kayode Ogungbenro<br/><strong>A physiological based pharmacokinetic model for low dose methotrexate in humans</strong><br/>Thursday 10:05-11:35</td></tr>\n",
        "<tr class=\"even\" onclick=\"location.href='?abstract=2768'\"><td class=\"col1\">III-59 Ines Paule<br/><strong>Population pharmacokinetics of an experimental drug\u2019s oral modified release formulation in healthy volunteers, quantification of sensitivity to types and timings of meals. </strong><br/>Thursday 10:05-11:35</td></tr>\n",
        "<tr class=\"even\" onclick=\"location.href='?abstract=2895'\"><td class=\"col1\">IV-23 Jens Borghardt<br/><strong>Characterisation of different absorption rate constants after inhalation of olodaterol</strong><br/>Thursday 14:55-16:20</td></tr>\n",
        "<tr class=\"even\" onclick=\"location.href='?abstract=2856'\"><td class=\"col1\">IV-56 Adam Darwich<br/><strong>A physiologically based pharmacokinetic model of oral drug bioavailability immediately post bariatric surgery</strong><br/>Thursday 14:55-16:20</td></tr>\n"
       ]
      }
     ],
     "prompt_number": 156
    },
    {
     "cell_type": "markdown",
     "metadata": {},
     "source": [
      "inside tr class need to get into attributes to access 'onclick' element"
     ]
    },
    {
     "cell_type": "code",
     "collapsed": false,
     "input": [
      "abstract_links = []\n",
      "for link in evens:\n",
      "    abstract_links.append(\n",
      "        \"http://www.page-meeting.org/default.asp\" + \n",
      "        str.split(link.attrs['onclick'], sep = '\\'')[1])"
     ],
     "language": "python",
     "metadata": {},
     "outputs": [],
     "prompt_number": 199
    },
    {
     "cell_type": "code",
     "collapsed": false,
     "input": [
      "abstract_links"
     ],
     "language": "python",
     "metadata": {},
     "outputs": [
      {
       "metadata": {},
       "output_type": "pyout",
       "prompt_number": 200,
       "text": [
        "['http://www.page-meeting.org/default.asp?abstract=2757',\n",
        " 'http://www.page-meeting.org/default.asp?abstract=2739',\n",
        " 'http://www.page-meeting.org/default.asp?abstract=2694',\n",
        " 'http://www.page-meeting.org/default.asp?abstract=2796',\n",
        " 'http://www.page-meeting.org/default.asp?abstract=2860',\n",
        " 'http://www.page-meeting.org/default.asp?abstract=2695',\n",
        " 'http://www.page-meeting.org/default.asp?abstract=2768',\n",
        " 'http://www.page-meeting.org/default.asp?abstract=2895',\n",
        " 'http://www.page-meeting.org/default.asp?abstract=2856']"
       ]
      }
     ],
     "prompt_number": 200
    },
    {
     "cell_type": "code",
     "collapsed": false,
     "input": [
      "s_abstract = BeautifulSoup(requests.get(abstract_links[1]).content)"
     ],
     "language": "python",
     "metadata": {},
     "outputs": [],
     "prompt_number": 212
    },
    {
     "cell_type": "code",
     "collapsed": false,
     "input": [
      "pdf_assets = s_abstract.find_all(href=re.compile(\"pdf_assets\"))"
     ],
     "language": "python",
     "metadata": {},
     "outputs": [],
     "prompt_number": 213
    },
    {
     "cell_type": "code",
     "collapsed": false,
     "input": [
      "pdf_assets[0]['href']"
     ],
     "language": "python",
     "metadata": {},
     "outputs": [
      {
       "metadata": {},
       "output_type": "pyout",
       "prompt_number": 217,
       "text": [
        "'pdf_assets/8276-PAGE_2013.pdf'"
       ]
      }
     ],
     "prompt_number": 217
    },
    {
     "cell_type": "code",
     "collapsed": false,
     "input": [
      "abs_paragraphs = s_abstract.find_all('p')"
     ],
     "language": "python",
     "metadata": {},
     "outputs": [],
     "prompt_number": 229
    },
    {
     "cell_type": "code",
     "collapsed": false,
     "input": [
      "s_abstract.find_all('p')"
     ],
     "language": "python",
     "metadata": {},
     "outputs": [
      {
       "metadata": {},
       "output_type": "pyout",
       "prompt_number": 244,
       "text": [
        "[<p><strong><h2>I-37 <a class=\"author\" href=\"/default.asp?id=&amp;keuze=profile&amp;profile_id=2887\">Nikolaos\u00a0Tsamandouras</a> A mechanistic population pharmacokinetic model for simvastatin and its active metabolite simvastatin acid</h2></strong></p>,\n",
        " <p>Nikolaos Tsamandouras (1), Aleksandra Galetin (1), Gemma Dickinson (2), Stephen Hall (2), Amin Rostami-Hodjegan (1,3) and Leon Aarons (1)</p>,\n",
        " <p>(1) Centre for Applied Pharmacokinetic Research, University of Manchester, UK, (2) Eli Lilly and Company, Indianapolis, IN, USA, (3) Simcyp Ltd, Sheffield, UK</p>,\n",
        " <p><strong>Objectives:</strong>\u00a0Simvastatin (SV), a commonly used HMG-CoA reductase inhibitor, is a prodrug with complex pharmacokinetics due to the interconversion between the parent drug and its main active metabolite, simvastatin acid (SVA) [1]. In addition both SV and SVA are subject to drug-drug interactions and are affected differentially by genetic variation in enzyme/transporter proteins relevant for their disposition [2,3]. An operating model that mechanistically describes the disposition of both these forms can have many applications. Therefore, this study aims to develop a mechanistic joint pharmacokinetic model for both SV and SVA.</p>,\n",
        " <p><strong>Methods:</strong>\u00a0SV and SVA plasma concentrations from 34 healthy volunteers derived from two clinical studies with intensive sampling were analysed. Population pharmacokinetic modelling was performed using nonlinear mixed effects software (NONMEM 7.2) and the prior functionality [4]. A mechanistic model was implemented with a physiologically based compartmental structure that allows interconversion between the lactone and acid form of the drug. Prior information for model parameters and (when available) their variability was extracted from physiology literature, <em>in vitro</em> experiments and <em>in silico</em> methods. An independent dataset was used for the external validation of the mechanistic model. The developed model was finally employed to simulate concentration profiles in plasma, liver and muscle and investigate the impact of different scenarios.</p>,\n",
        " <p><strong>Results:</strong>\u00a0The mechanistic model provided a good fit to the plasma concentration data for both SV and SVA, while the model predictions were also in close agreement with the observed data used for external validation. Additionally, the model provides a mechanistic basis for the interconversion between the two forms in different tissues\u00a0and quantifies this process. Simulations with the developed model using reduced hepatic uptake of SVA (representing the scenario of a <em>SLCO1B1</em> polymorphism) recovered the reported increase in exposure of SVA in plasma [5]; comparable increased fold-exposure was simulated in the muscle, consistent with the risk of toxicity in this tissue; whereas impact on liver exposure was minimal.</p>,\n",
        " <p><strong>Conclusion:</strong>\u00a0The developed mechanistic model successfully describes the pharmacokinetics of both SV and SVA. Its main advantage is that it allows extrapolation and predictions of different scenarios, such as the impact of genetic polymorphisms or potential drug-drug interactions.<strong> </strong></p>,\n",
        " <p><strong>References:<br/></strong>[1] Prueksaritanont T., et al., <em>Interconversion pharmacokinetics of simvastatin and its hydroxy acid in dogs: Effects of gemfibrozil.</em> Pharm Res, 2005. 22(7): p. 1101-1109<br/>[2] Wilke R.A., et al., <em>The clinical pharmacogenomics implementation consortium: CPIC guideline for SLCO1B1 and simvastatin-induced myopathy.</em> Clin Pharmacol Ther, 2012. 92(1): p. 112-117.<br/>[3] Elsby R., et al., <em>Understanding the critical disposition pathways of statins to assess drug-drug interaction risk during drug development: It's not just about OATP1B1.</em> Clin Pharmacol Ther, 2012. 92(5): p. 584-598.<br/>[4] Langdon G., et al., <em>Linking preclinical and clinical whole-body physiologically based pharmacokinetic models with prior distributions in NONMEM.</em> Eur J Clin Pharmacol, 2007. 63(5): p. 485-498<br/>[5] Pasanen M.K., et al., <em>SLCO1B1 polymorphism markedly affects the pharmacokinetics of simvastatin acid.</em> Pharmacogenet Genomics, 2006. 16(12): p. 873-879.</p>]"
       ]
      }
     ],
     "prompt_number": 244
    },
    {
     "cell_type": "markdown",
     "metadata": {},
     "source": [
      "grab first paragraph where name and title of poster are"
     ]
    },
    {
     "cell_type": "code",
     "collapsed": false,
     "input": [
      "long_pdf_name = re.sub(\"\\s\", \"_\", abs_paragraphs[0].text) + '.pdf'"
     ],
     "language": "python",
     "metadata": {},
     "outputs": [],
     "prompt_number": 305
    },
    {
     "cell_type": "code",
     "collapsed": false,
     "input": [
      "long_pdf_name"
     ],
     "language": "python",
     "metadata": {},
     "outputs": [
      {
       "metadata": {},
       "output_type": "pyout",
       "prompt_number": 306,
       "text": [
        "'I-37_Nikolaos_Tsamandouras_A_mechanistic_population_pharmacokinetic_model_for_simvastatin_and_its_active_metabolite_simvastatin_acid.pdf'"
       ]
      }
     ],
     "prompt_number": 306
    },
    {
     "cell_type": "markdown",
     "metadata": {},
     "source": [
      "now have name and pdf link so just need to set up file connection and then apply to all in list"
     ]
    },
    {
     "cell_type": "code",
     "collapsed": false,
     "input": [
      "BASE_URL = 'http://www.page-meeting.org/'\n",
      "PDF_FOLDER = 'PAGE_PDFS/'\n",
      "pdf_save_loc = PDF_FOLDER + long_pdf_name"
     ],
     "language": "python",
     "metadata": {},
     "outputs": [],
     "prompt_number": 312
    },
    {
     "cell_type": "code",
     "collapsed": false,
     "input": [
      "dl_link = BASE_URL + pdf_assets[0]['href']"
     ],
     "language": "python",
     "metadata": {},
     "outputs": [],
     "prompt_number": 289
    },
    {
     "cell_type": "code",
     "collapsed": false,
     "input": [
      "pdf_link = urlopen(dl_link)"
     ],
     "language": "python",
     "metadata": {},
     "outputs": [],
     "prompt_number": 321
    },
    {
     "cell_type": "code",
     "collapsed": false,
     "input": [
      "local_pdf = open(pdf_save_loc, 'wb') # wb allows to write binary rather than just str"
     ],
     "language": "python",
     "metadata": {},
     "outputs": [],
     "prompt_number": 322
    },
    {
     "cell_type": "code",
     "collapsed": false,
     "input": [
      "local_pdf.write(pdf_link.read())"
     ],
     "language": "python",
     "metadata": {},
     "outputs": [
      {
       "metadata": {},
       "output_type": "pyout",
       "prompt_number": 323,
       "text": [
        "680910"
       ]
      }
     ],
     "prompt_number": 323
    },
    {
     "cell_type": "code",
     "collapsed": false,
     "input": [
      "local_pdf.close()"
     ],
     "language": "python",
     "metadata": {},
     "outputs": [],
     "prompt_number": 324
    },
    {
     "cell_type": "markdown",
     "metadata": {},
     "source": [
      "## encapsulate in functions"
     ]
    },
    {
     "cell_type": "code",
     "collapsed": false,
     "input": [
      "def has_pdf(pdf_assets):\n",
      "    if(len(pdf_assets) < 1): \n",
      "        return(False)\n",
      "    else:\n",
      "        return(True)"
     ],
     "language": "python",
     "metadata": {},
     "outputs": [],
     "prompt_number": 351
    },
    {
     "cell_type": "code",
     "collapsed": false,
     "input": [
      "def get_abstract(abstract_link):\n",
      "    soup = BeautifulSoup(requests.get(abstract_link).content)\n",
      "    return(soup)"
     ],
     "language": "python",
     "metadata": {},
     "outputs": [],
     "prompt_number": 352
    },
    {
     "cell_type": "code",
     "collapsed": false,
     "input": [
      "def get_pdf_info(abstract_soup):\n",
      "    pdf_assets = abstract_soup.find_all(href=re.compile(\"pdf_assets\"))\n",
      "    if has_pdf(pdf_assets):\n",
      "        abs_paragraphs = abstract_soup.find_all('p')\n",
      "        pdf_name = abs_paragraphs[0].text\n",
      "        exclude = set(string.punctuation)\n",
      "        pdf_name = ''.join(ch for ch in pdf_name if ch not in exclude)\n",
      "        pdf_name = re.sub(\"\\s\", \"_\", pdf_name) \n",
      "        pdf_name = pdf_name + '.pdf'\n",
      "        url = pdf_assets[0]['href']\n",
      "        url = urllib.parse.urlsplit(url)\n",
      "        url = list(url)\n",
      "        for i, u in enumerate(url):\n",
      "            url[i] = urllib.parse.quote(u)\n",
      "        url = urllib.parse.urlunsplit(url)\n",
      "        return({'pdf_link': url, 'pdf_name': pdf_name})\n",
      "    else:\n",
      "        return(False)\n",
      "        \n",
      "    "
     ],
     "language": "python",
     "metadata": {},
     "outputs": [],
     "prompt_number": 450
    },
    {
     "cell_type": "code",
     "collapsed": false,
     "input": [
      "Was getting a number of errors due to parsing issues, realized it was due to non-ascii characters"
     ],
     "language": "python",
     "metadata": {},
     "outputs": []
    },
    {
     "cell_type": "code",
     "collapsed": false,
     "input": [
      "# testing url parsing\n",
      "import urllib.parse\n",
      "url = 'http://example.com/un icod\u00e8'\n",
      "url = urllib.parse.urlsplit(url)\n",
      "url = list(url)\n",
      "print(url)\n",
      "for i, u in enumerate(url):\n",
      "    url[i] = urllib.parse.quote(u)\n",
      "    print(u)\n",
      "print(url)\n",
      "url = urllib.parse.urlunsplit(url)\n",
      "print(url)"
     ],
     "language": "python",
     "metadata": {},
     "outputs": [
      {
       "output_type": "stream",
       "stream": "stdout",
       "text": [
        "['http', 'example.com', '/un icod\u00e8', '', '']\n",
        "http\n",
        "example.com\n",
        "/un icod\u00e8\n",
        "\n",
        "\n",
        "['http', 'example.com', '/un%20icod%C3%A8', '', '']\n",
        "http://example.com/un%20icod%C3%A8\n"
       ]
      }
     ],
     "prompt_number": 449
    },
    {
     "cell_type": "code",
     "collapsed": false,
     "input": [
      "def dl_pdf(pdf_info, base_url, folder_name):\n",
      "    pdf_name = (pdf_info['pdf_name'][:75] + '__.pdf') if len(pdf_info['pdf_name']) > 77 else pdf_info['pdf_name']\n",
      "    pdf_save_loc = folder_name + '/' + pdf_name\n",
      "    pdf_dl_link = base_url + pdf_info['pdf_link']\n",
      "    try:\n",
      "        r = requests.get(pdf_dl_link)\n",
      "        r.raise_for_status()\n",
      "    except HTTPError:\n",
      "        print('Could not download page')\n",
      "    else:\n",
      "        online_pdf = urlopen(pdf_dl_link)\n",
      "        local_pdf = open(pdf_save_loc, 'wb')\n",
      "        local_pdf.write(online_pdf.read())\n",
      "        local_pdf.close()\n",
      "    \n",
      "        \n",
      "        "
     ],
     "language": "python",
     "metadata": {},
     "outputs": [],
     "prompt_number": 464
    },
    {
     "cell_type": "code",
     "collapsed": false,
     "input": [
      "r = requests.get('http://www.page-meeting.org/pdf_assets/7934-PAGE2013_poster_v2.pdf')\n",
      "\n"
     ],
     "language": "python",
     "metadata": {},
     "outputs": [
      {
       "output_type": "stream",
       "stream": "stdout",
       "text": [
        "Could not download page\n"
       ]
      }
     ],
     "prompt_number": 463
    },
    {
     "cell_type": "markdown",
     "metadata": {},
     "source": [
      "## test single case"
     ]
    },
    {
     "cell_type": "code",
     "collapsed": false,
     "input": [
      "# test try catch\n",
      "pdf_infos = [{'pdf_name': 'IV41_Chao_Chen_A_mechanistic_model_for_the_involvement_of_the_neonatal_Fc_receptor_in_IgG_disposition.pdf',\n",
      "  'pdf_link': 'pdf_assets/7934-PAGE2013_poster_v2.pdf'},{'pdf_name': 'IV15_Shanshan_Bi_Population_PharmacokineticPharmacodynamic_Modeling_of_Two_Novel_Neutral_Endopeptidase_Inhibitors_in_Healthy_Subjects.pdf',\n",
      "  'pdf_link': 'pdf_assets/9398-PopPK%20Modeling%20of%20Two%20Novel%20Neutral%20Endopeptidase%20Inhibitors%20in%20Healthy%20Subjects.pdf'}]\n",
      "for p in pdf_infos:\n",
      "    dl_pdf(p, BASE_URL, 'PAGE_PDFS')"
     ],
     "language": "python",
     "metadata": {},
     "outputs": [
      {
       "output_type": "stream",
       "stream": "stdout",
       "text": [
        "Could not download page\n"
       ]
      }
     ],
     "prompt_number": 470
    },
    {
     "cell_type": "code",
     "collapsed": false,
     "input": [
      "poster_links = []\n",
      "for link in all_links:\n",
      "    if re.search(\"Poster\", link.get('href')):\n",
      "        poster_links.append(link.get('href'))\n",
      "    else: next\n",
      "\n"
     ],
     "language": "python",
     "metadata": {},
     "outputs": [],
     "prompt_number": 387
    },
    {
     "cell_type": "code",
     "collapsed": false,
     "input": [
      "poster_links"
     ],
     "language": "python",
     "metadata": {},
     "outputs": [
      {
       "metadata": {},
       "output_type": "pyout",
       "prompt_number": 388,
       "text": [
        "['?keuze=abstracts&id=37&t=category&m=Poster: Absorption and Physiology-Based PK',\n",
        " '?keuze=abstracts&id=37&t=category&m=Poster: CNS',\n",
        " '?keuze=abstracts&id=37&t=category&m=Poster: Covariate/Variability Model Building',\n",
        " '?keuze=abstracts&id=37&t=category&m=Poster: Endocrine',\n",
        " '?keuze=abstracts&id=37&t=category&m=Poster: Estimation Methods',\n",
        " '?keuze=abstracts&id=37&t=category&m=Poster: Infection',\n",
        " '?keuze=abstracts&id=37&t=category&m=Poster: Model Evaluation',\n",
        " '?keuze=abstracts&id=37&t=category&m=Poster: New Modelling Approaches',\n",
        " '?keuze=abstracts&id=37&t=category&m=Poster: Oncology',\n",
        " '?keuze=abstracts&id=37&t=category&m=Poster: Other Drug/Disease Modelling',\n",
        " '?keuze=abstracts&id=37&t=category&m=Poster: Other Modelling Applications',\n",
        " '?keuze=abstracts&id=37&t=category&m=Poster: Paediatrics',\n",
        " '?keuze=abstracts&id=37&t=category&m=Poster: Safety (e.g. QT prolongation)',\n",
        " '?keuze=abstracts&id=37&t=category&m=Poster: Study Design']"
       ]
      }
     ],
     "prompt_number": 388
    },
    {
     "cell_type": "code",
     "collapsed": false,
     "input": [
      "all_dl_info = []\n",
      "for p in poster_links:\n",
      "    poster = \"http://www.page-meeting.org/default.asp\" + re.sub('\\s', \"%20\", p)\n",
      "    print(poster)\n",
      "    request_single = requests.get(poster)\n",
      "    soup_single = BeautifulSoup(request_single.content)\n",
      "    evens = soup_single.find_all('tr', 'even')\n",
      "    unevens = soup_single.find_all('tr', 'uneven')\n",
      "    all_abstract_links = evens + unevens\n",
      "    abstract_links = []\n",
      "    for link in all_abstract_links:\n",
      "        abstract_links.append(\n",
      "            \"http://www.page-meeting.org/default.asp\" + \n",
      "            str.split(link.attrs['onclick'], sep = '\\'')[1])\n",
      "    for link in abstract_links:\n",
      "        pdf_info = get_pdf_info(get_abstract(link))\n",
      "        if(pdf_info):\n",
      "            all_dl_info.append(pdf_info)"
     ],
     "language": "python",
     "metadata": {},
     "outputs": [
      {
       "output_type": "stream",
       "stream": "stdout",
       "text": [
        "http://www.page-meeting.org/default.asp?keuze=abstracts&id=37&t=category&m=Poster:%20Absorption%20and%20Physiology-Based%20PK\n",
        "http://www.page-meeting.org/default.asp?keuze=abstracts&id=37&t=category&m=Poster:%20CNS"
       ]
      },
      {
       "output_type": "stream",
       "stream": "stdout",
       "text": [
        "\n",
        "http://www.page-meeting.org/default.asp?keuze=abstracts&id=37&t=category&m=Poster:%20Covariate/Variability%20Model%20Building"
       ]
      },
      {
       "output_type": "stream",
       "stream": "stdout",
       "text": [
        "\n",
        "http://www.page-meeting.org/default.asp?keuze=abstracts&id=37&t=category&m=Poster:%20Endocrine"
       ]
      },
      {
       "output_type": "stream",
       "stream": "stdout",
       "text": [
        "\n",
        "http://www.page-meeting.org/default.asp?keuze=abstracts&id=37&t=category&m=Poster:%20Estimation%20Methods"
       ]
      },
      {
       "output_type": "stream",
       "stream": "stdout",
       "text": [
        "\n",
        "http://www.page-meeting.org/default.asp?keuze=abstracts&id=37&t=category&m=Poster:%20Infection"
       ]
      },
      {
       "output_type": "stream",
       "stream": "stdout",
       "text": [
        "\n",
        "http://www.page-meeting.org/default.asp?keuze=abstracts&id=37&t=category&m=Poster:%20Model%20Evaluation"
       ]
      },
      {
       "output_type": "stream",
       "stream": "stdout",
       "text": [
        "\n",
        "http://www.page-meeting.org/default.asp?keuze=abstracts&id=37&t=category&m=Poster:%20New%20Modelling%20Approaches"
       ]
      },
      {
       "output_type": "stream",
       "stream": "stdout",
       "text": [
        "\n",
        "http://www.page-meeting.org/default.asp?keuze=abstracts&id=37&t=category&m=Poster:%20Oncology"
       ]
      },
      {
       "output_type": "stream",
       "stream": "stdout",
       "text": [
        "\n",
        "http://www.page-meeting.org/default.asp?keuze=abstracts&id=37&t=category&m=Poster:%20Other%20Drug/Disease%20Modelling"
       ]
      },
      {
       "output_type": "stream",
       "stream": "stdout",
       "text": [
        "\n",
        "http://www.page-meeting.org/default.asp?keuze=abstracts&id=37&t=category&m=Poster:%20Other%20Modelling%20Applications"
       ]
      },
      {
       "output_type": "stream",
       "stream": "stdout",
       "text": [
        "\n",
        "http://www.page-meeting.org/default.asp?keuze=abstracts&id=37&t=category&m=Poster:%20Paediatrics"
       ]
      },
      {
       "output_type": "stream",
       "stream": "stdout",
       "text": [
        "\n",
        "http://www.page-meeting.org/default.asp?keuze=abstracts&id=37&t=category&m=Poster:%20Safety%20(e.g.%20QT%20prolongation)"
       ]
      },
      {
       "output_type": "stream",
       "stream": "stdout",
       "text": [
        "\n",
        "http://www.page-meeting.org/default.asp?keuze=abstracts&id=37&t=category&m=Poster:%20Study%20Design"
       ]
      },
      {
       "output_type": "stream",
       "stream": "stdout",
       "text": [
        "\n"
       ]
      }
     ],
     "prompt_number": 451
    },
    {
     "cell_type": "code",
     "collapsed": false,
     "input": [
      "# check to see 'head' of all_dl_info\n",
      "all_dl_info[:10]"
     ],
     "language": "python",
     "metadata": {},
     "outputs": [
      {
       "metadata": {},
       "output_type": "pyout",
       "prompt_number": 472,
       "text": [
        "[{'pdf_name': 'I37_Nikolaos_Tsamandouras_A_mechanistic_population_pharmacokinetic_model_for_simvastatin_and_its_active_metabolite_simvastatin_acid.pdf',\n",
        "  'pdf_link': 'pdf_assets/8276-PAGE_2013.pdf'},\n",
        " {'pdf_name': 'I46_Nieves_Velez_de_Mendizabal_A_Population_PK_Model_For_Citalopram_And_Its_Major_Metabolite_Ndesmethyl_Citalopram_In_Rats.pdf',\n",
        "  'pdf_link': 'pdf_assets/2615-PosterPAGE2013_Final.pptx'},\n",
        " {'pdf_name': 'II05_Mike_Dunlavey_Support_in_PML_for_Absorption_Time_Lag_via_Transit_Compartments.pdf',\n",
        "  'pdf_link': 'pdf_assets/6484-MDPage13_SizeA0.pdf'},\n",
        " {'pdf_name': 'II55_Rasmus_Juul_Pharmacokinetic_modelling_as_a_tool_to_assess_transporter_involvement_in_vigabatrin_absorption.pdf',\n",
        "  'pdf_link': 'pdf_assets/6212-Poster%20A0%20PAGE%2011-06-13%20final%20Rasmus%20Juul.pdf'},\n",
        " {'pdf_name': 'IV23_Jens_Borghardt_Characterisation_of_different_absorption_rate_constants_after_inhalation_of_olodaterol.pdf',\n",
        "  'pdf_link': 'pdf_assets/9205-Characterisation%20of%20different%20absorption%20rate%20constants%20after%20inhalation%20of%20olodaterol.pdf'},\n",
        " {'pdf_name': 'I14_Stephan_Schmidt_Mechanistic_Prediction_of_Acetaminophen_Metabolism_and_Pharmacokinetics_in_Children_using_a_PhysiologicallyBased_Pharmacokinetic_PBPK_Modeling_Approach.pdf',\n",
        "  'pdf_link': 'pdf_assets/9554-Jiang%20et%20al%20-%20PAGE%202013.pdf'},\n",
        " {'pdf_name': 'I39_Wanchana_Ungphakorn_Development_of_a_Physiologically_Based_Pharmacokinetic_Model_for_Children_with_Severe_Malnutrition.pdf',\n",
        "  'pdf_link': 'pdf_assets/4631-UngphakornPAGE%202013.pdf'},\n",
        " {'pdf_name': 'II40_Taegon_Hong_Usefulness_of_WeibullType_Absorption_Model_for_the_Population_Pharmacokinetic_Analysis_of_Pregabalin.pdf',\n",
        "  'pdf_link': 'pdf_assets/6242-TgHong_poster.pdf'},\n",
        " {'pdf_name': 'III02_Andreas_Krause_Modeling_the_two_peak_phenomenon_in_pharmacokinetics_using_a_gut_passage_model_with_two_absorption_sites.pdf',\n",
        "  'pdf_link': 'pdf_assets/295-2013-06%20PAGE-Two%20peak%20phenomenon%202013-05-23.pdf'},\n",
        " {'pdf_name': 'I03_Sylvie_Retout_A_drug_development_tool_for_trial_simulation_in_prodromal_Alzheimer\u2019s_patient_using_the_Clinical_Dementia_Rating_scale_Sum_of_Boxes_score_CDRSOB.pdf',\n",
        "  'pdf_link': 'pdf_assets/6980-Poster%20PAGE%202013%20Roche%20simulation%20Retout%20et%20al.pdf'}]"
       ]
      }
     ],
     "prompt_number": 472
    },
    {
     "cell_type": "code",
     "collapsed": false,
     "input": [
      "for info in all_dl_info:\n",
      "    print(info['pdf_name'], \"\\n\")\n",
      "    dl_pdf(info, BASE_URL, 'PAGE_PDFS')"
     ],
     "language": "python",
     "metadata": {},
     "outputs": [
      {
       "output_type": "stream",
       "stream": "stdout",
       "text": [
        "I37_Nikolaos_Tsamandouras_A_mechanistic_population_pharmacokinetic_model_for_simvastatin_and_its_active_metabolite_simvastatin_acid.pdf \n",
        "\n",
        "I46_Nieves_Velez_de_Mendizabal_A_Population_PK_Model_For_Citalopram_And_Its_Major_Metabolite_Ndesmethyl_Citalopram_In_Rats.pdf"
       ]
      },
      {
       "output_type": "stream",
       "stream": "stdout",
       "text": [
        " \n",
        "\n",
        "II05_Mike_Dunlavey_Support_in_PML_for_Absorption_Time_Lag_via_Transit_Compartments.pdf"
       ]
      },
      {
       "output_type": "stream",
       "stream": "stdout",
       "text": [
        " \n",
        "\n",
        "II55_Rasmus_Juul_Pharmacokinetic_modelling_as_a_tool_to_assess_transporter_involvement_in_vigabatrin_absorption.pdf"
       ]
      },
      {
       "output_type": "stream",
       "stream": "stdout",
       "text": [
        " \n",
        "\n",
        "IV23_Jens_Borghardt_Characterisation_of_different_absorption_rate_constants_after_inhalation_of_olodaterol.pdf"
       ]
      },
      {
       "output_type": "stream",
       "stream": "stdout",
       "text": [
        " \n",
        "\n",
        "I14_Stephan_Schmidt_Mechanistic_Prediction_of_Acetaminophen_Metabolism_and_Pharmacokinetics_in_Children_using_a_PhysiologicallyBased_Pharmacokinetic_PBPK_Modeling_Approach.pdf"
       ]
      },
      {
       "output_type": "stream",
       "stream": "stdout",
       "text": [
        " \n",
        "\n",
        "I39_Wanchana_Ungphakorn_Development_of_a_Physiologically_Based_Pharmacokinetic_Model_for_Children_with_Severe_Malnutrition.pdf"
       ]
      },
      {
       "output_type": "stream",
       "stream": "stdout",
       "text": [
        " \n",
        "\n",
        "II40_Taegon_Hong_Usefulness_of_WeibullType_Absorption_Model_for_the_Population_Pharmacokinetic_Analysis_of_Pregabalin.pdf"
       ]
      },
      {
       "output_type": "stream",
       "stream": "stdout",
       "text": [
        " \n",
        "\n",
        "III02_Andreas_Krause_Modeling_the_two_peak_phenomenon_in_pharmacokinetics_using_a_gut_passage_model_with_two_absorption_sites.pdf"
       ]
      },
      {
       "output_type": "stream",
       "stream": "stdout",
       "text": [
        " \n",
        "\n",
        "I03_Sylvie_Retout_A_drug_development_tool_for_trial_simulation_in_prodromal_Alzheimer\u2019s_patient_using_the_Clinical_Dementia_Rating_scale_Sum_of_Boxes_score_CDRSOB.pdf"
       ]
      },
      {
       "output_type": "stream",
       "stream": "stdout",
       "text": [
        " \n",
        "\n",
        "I38_Sebastian_Ueckert_AD_idea_\u2013_Alzheimer\u2019s_Disease__integrated_dynamic_electronic_assessment_of_Cognition.pdf"
       ]
      },
      {
       "output_type": "stream",
       "stream": "stdout",
       "text": [
        " \n",
        "\n",
        "II54_Marija_Jovanovic_Effect_of_Carbamazepine_Daily_Dose_on_Topiramate_Clearance__Population_Modelling_Approach.pdf"
       ]
      },
      {
       "output_type": "stream",
       "stream": "stdout",
       "text": [
        " \n",
        "\n",
        "I30_Eva_Sverrisd\u00f3ttir_Modelling_analgesiaconcentration_relationships_for_morphine_to_evaluate_experimental_pain_models.pdf"
       ]
      },
      {
       "output_type": "stream",
       "stream": "stdout",
       "text": [
        " \n",
        "\n",
        "II27_Roberto_Gomeni_Implementing_adaptive_study_design_in_clinical_trials_for_psychiatric_disorders_using_bandpass_filtering_approach.pdf"
       ]
      },
      {
       "output_type": "stream",
       "stream": "stdout",
       "text": [
        " \n",
        "\n",
        "II39_Eef_Hoeben_Prediction_of_Serotonin_2A_Receptor_5HT2AR_Occupancy_in_Man_From_Nonclinical_Pharmacology_Data_Exposure_vs_5HT2AR_Occupancy_Modeling_Used_to_Help_Design_a_Positron_Emission_Tomography_PET_Study_in_Healthy_Male_Subjects.pdf"
       ]
      },
      {
       "output_type": "stream",
       "stream": "stdout",
       "text": [
        " \n",
        "\n",
        "II56_Matts_K\u00e5gedal_A_modelling_approach_allowing_different_nonspecific_uptake_in_the_reference_region_and_regions_of_interest_\u2013_Opening_up_the_possibility_to_use_white_matter_as_a_reference_region_in_PET_occupancy_studies.pdf"
       ]
      },
      {
       "output_type": "stream",
       "stream": "stdout",
       "text": [
        " \n",
        "\n",
        "I35_Adrien_Tessier_Highthroughput_genetic_screening_and_pharmacokinetic_population_modeling_in_drug_development.pdf"
       ]
      },
      {
       "output_type": "stream",
       "stream": "stdout",
       "text": [
        " \n",
        "\n",
        "II43_Yun_Hwiyeol_Evaluation_of_FREM_and_FFEM_including_use_of_model_linearization_.pdf"
       ]
      },
      {
       "output_type": "stream",
       "stream": "stdout",
       "text": [
        " \n",
        "\n",
        "IV30_Vincent_Buchheit_Data_quality_impacts_on_modeling_results.pdf"
       ]
      },
      {
       "output_type": "stream",
       "stream": "stdout",
       "text": [
        " \n",
        "\n",
        "I28_Herbert_Struemper_Population_pharmacokinetics_of_belimumab_in_systemic_lupus_erythematosus_insights_for_monoclonal_antibody_covariate_modeling_from_a_large_data_set.pdf"
       ]
      },
      {
       "output_type": "stream",
       "stream": "stdout",
       "text": [
        " \n",
        "\n",
        "II42_Daniel_Hovdal_PKPD_modelling_of_drug_induced_changes_in_thyroxine_turnover_in_rat.pdf"
       ]
      },
      {
       "output_type": "stream",
       "stream": "stdout",
       "text": [
        " \n",
        "\n",
        "IV47_Steve_Choy_Modelling_the_Effect_of_Very_Low_Calorie_Diet_on_Weight_and_Fasting_Plasma_Glucose_in_Type_2_Diabetic_Patients.pdf"
       ]
      },
      {
       "output_type": "stream",
       "stream": "stdout",
       "text": [
        " \n",
        "\n",
        "II07_Christine_Falcoz_PKPD_Modeling_of_Imeglimin_Phase_IIa_Monotherapy_Studies_in_Type_2_Diabetes_Mellitus_T2DM.pdf"
       ]
      },
      {
       "output_type": "stream",
       "stream": "stdout",
       "text": [
        " \n",
        "\n",
        "III06_Anna_Largajolli_An_integrated_glucoseinsulin_minimal_model_for_IVGTT.pdf"
       ]
      },
      {
       "output_type": "stream",
       "stream": "stdout",
       "text": [
        " \n",
        "\n",
        "I09_Tarjinder_Sahota_Real_data_comparisons_of_NONMEM_72_estimation_methods_with_parallel_processing_on_targetmediated_drug_disposition_models.pdf"
       ]
      },
      {
       "output_type": "stream",
       "stream": "stdout",
       "text": [
        " \n",
        "\n",
        "I55_Jixian_Wang_Design_and_analysis_of_randomized_concentration_controlled_.pdf"
       ]
      },
      {
       "output_type": "stream",
       "stream": "stdout",
       "text": [
        " \n",
        "\n",
        "IV45_Jason_Chittenden_Practical_Application_of_GPU_Computing_to_Population_PK.pdf"
       ]
      },
      {
       "output_type": "stream",
       "stream": "stdout",
       "text": [
        " \n",
        "\n",
        "I49_Paul_Vigneaux_Extending_Monolix_to_use_models_with_Partial_Differential_Equations.pdf"
       ]
      },
      {
       "output_type": "stream",
       "stream": "stdout",
       "text": [
        " \n",
        "\n",
        "III07_Robert_Leary_A_Fast_Bootstrap_Method_Using_EM_Posteriors.pdf"
       ]
      },
      {
       "output_type": "stream",
       "stream": "stdout",
       "text": [
        " \n",
        "\n",
        "III53_Erik_Olofsen_Simultaneous_stochastic_modeling_of_pharmacokinetic_and_pharmacodynamic_data_with_noncoinciding_sampling_times.pdf"
       ]
      },
      {
       "output_type": "stream",
       "stream": "stdout",
       "text": [
        " \n",
        "\n",
        "II01_Thomas_Dorlo_Miltefosine_treatment_failure_in_visceral_leishmaniasis_in_Nepal_is_associated_with_low_drug_exposure.pdf"
       ]
      },
      {
       "output_type": "stream",
       "stream": "stdout",
       "text": [
        " \n",
        "\n",
        "II34_Monia_Guidi_Impacts_of_environmental_clinical_and_genetic_factors_on_the_response_to_vitamin_D_supplementation_in_HIVpositive_patients.pdf"
       ]
      },
      {
       "output_type": "stream",
       "stream": "stdout",
       "text": [
        " \n",
        "\n",
        "II50_Sangil_Jeon_Population_Pharmacokinetics_of_Piperacillin_in_Burn_Patients.pdf"
       ]
      },
      {
       "output_type": "stream",
       "stream": "stdout",
       "text": [
        " \n",
        "\n",
        "II59_IreneAriadne_Kechagia_Population_pharmacokinetic_analysis_of_colistin_after_administration_of_inhaled_colistin_methanesulfonate.pdf"
       ]
      },
      {
       "output_type": "stream",
       "stream": "stdout",
       "text": [
        " \n",
        "\n",
        "III20_Jesmin_Lohy_Das_Simulations_to_investigate_new_Intermittent_Preventive_Therapy_Dosing_Regimens_for_DihydroartemisininPiperaquine___.pdf"
       ]
      },
      {
       "output_type": "stream",
       "stream": "stdout",
       "text": [
        " \n",
        "\n",
        "IV04_Sarah_Alghanem_Comparison_of_NONMEM_and_Pmetrics_Analysis_for_Aminoglycosides_in_Adult_Patients_with_Cystic_Fibrosis_.pdf"
       ]
      },
      {
       "output_type": "stream",
       "stream": "stdout",
       "text": [
        " \n",
        "\n",
        "IV27_Margreke_Brill_Population_pharmacokinetic_model_for_protein_binding_and_subcutaneous_adipose_tissue_distribution_of_cefazolin_in_morbidly_obese_and_nonobese_patients.pdf"
       ]
      },
      {
       "output_type": "stream",
       "stream": "stdout",
       "text": [
        " \n",
        "\n",
        "IV52_Camille_Couffignal_Population_pharmacokinetics_of_imipenem_in_intensive_care_unit_patients_with_ventilatedassociated_pneumonia_.pdf"
       ]
      },
      {
       "output_type": "stream",
       "stream": "stdout",
       "text": [
        " \n",
        "\n",
        "II48_Nerea_Jauregizar_PharmacokineticPharmacodynamic_modeling_of_timekill_curves_for_echinocandins_against_Candida.pdf"
       ]
      },
      {
       "output_type": "stream",
       "stream": "stdout",
       "text": [
        " \n",
        "\n",
        "II58_Takayuki_Katsube_Pharmacokineticpharmacodynamic_modeling_and_simulation_for_concentrationdependent_bactericidal_activity_of_a_bicyclolide_modithromycin.pdf"
       ]
      },
      {
       "output_type": "stream",
       "stream": "stdout",
       "text": [
        " \n",
        "\n",
        "IV11_Eduardo_As\u00edn_Population_Pharmacokinetics_of_Cefuroxime_in_patients_Undergoing_Colorectal_Surgery.pdf"
       ]
      },
      {
       "output_type": "stream",
       "stream": "stdout",
       "text": [
        " \n",
        "\n",
        "I21_Heiner_Speth_Referenced_Visual_Predictive_Check_rVPC.pdf"
       ]
      },
      {
       "output_type": "stream",
       "stream": "stdout",
       "text": [
        " \n",
        "\n",
        "III46_Xavier_Nicolas_Steadystate_achievement_and_accumulation_for_a_compound_with_biphasic_disposition_and_long_terminal_halflife_estimation_by_different_techniques.pdf"
       ]
      },
      {
       "output_type": "stream",
       "stream": "stdout",
       "text": [
        " \n",
        "\n",
        "IV51_Emmanuelle_Comets_Additional_features_and_graphs_in_the_new_npde_library_for_R.pdf"
       ]
      },
      {
       "output_type": "stream",
       "stream": "stdout",
       "text": [
        " \n",
        "\n",
        "III43_Kiyohiko_Nakai_Urinary_Cterminal_Telopeptide_of_TypeI_Collagen_Concentration_uCTx_as_a_Possible_Biomarker_for_Osteoporosis_Treatment_A_Direct_Comparison_of_the_Modeling_and_Simulation_MS_Data_and_those_Actually_Obtained_in_Japanese_Patients_with_Osteoporosis_Following_a_Threeyeartreatment_with_Ibandronic_Acid_IBN_.pdf"
       ]
      },
      {
       "output_type": "stream",
       "stream": "stdout",
       "text": [
        " \n",
        "\n",
        "III47_Ronald_Niebecker_Are_datasets_for_NLME_models_large_enough_for_a_bootstrap_to_provide_reliable_parameter_uncertainty_distributions.pdf"
       ]
      },
      {
       "output_type": "stream",
       "stream": "stdout",
       "text": [
        " \n",
        "\n",
        "I01_Andrijana_Radivojevic_Enhancing_population_PK_modeling_efficiency_using_an_integrated_workflow.pdf"
       ]
      },
      {
       "output_type": "stream",
       "stream": "stdout",
       "text": [
        " \n",
        "\n",
        "I07_Alberto_Russu_Secondorder_indirect_response_modelling_of_complex_biomarker_dynamics.pdf"
       ]
      },
      {
       "output_type": "stream",
       "stream": "stdout",
       "text": [
        " \n",
        "\n",
        "I31_Maciej_Swat_PharmML_\u2013_An_Exchange_Standard_for_Models_in_Pharmacometrics.pdf"
       ]
      },
      {
       "output_type": "stream",
       "stream": "stdout",
       "text": [
        " \n",
        "\n",
        "II04_Thomas_Dumortier_Using_a_modelbased_approach_to_address_FDA\u2019s_midcycle_review_concerns_by_demonstrating_the_contribution_of_everolimus_to_the_efficacy_of_its_combination_with_low_exposure_tacrolimus_in_liver_transplantation.pdf"
       ]
      },
      {
       "output_type": "stream",
       "stream": "stdout",
       "text": [
        " \n",
        "\n",
        "II14_Ludivine_Fronton_A_Novel_PBPK_Approach_for_mAbs_and_its_Implications_in_the_Interpretation_of_Classical_Compartment_Models.pdf"
       ]
      },
      {
       "output_type": "stream",
       "stream": "stdout",
       "text": [
        " \n",
        "\n",
        "II23_Leonid_Gibiansky_Monoclonal_AntibodyDrug_Conjugates_ADC_Simplification_of_Equations_and_ModelIndependent_Assessment_of_Deconjugation_Rate.pdf"
       ]
      },
      {
       "output_type": "stream",
       "stream": "stdout",
       "text": [
        " \n",
        "\n",
        "II30_Sathej_Gopalakrishnan_Towards_assessing_therapy_failure_in_HIV_disease_estimating_in_vivo_fitness_characteristics_of_viral_mutants_by_an_integrated_statisticalmechanistic_approach.pdf"
       ]
      },
      {
       "output_type": "stream",
       "stream": "stdout",
       "text": [
        " \n",
        "\n",
        "III03_Elke_Krekels_Item_response_theory_for_the_analysis_of_the_placebo_effect_in_Phase_3_studies_of_schizophrenia.pdf"
       ]
      },
      {
       "output_type": "stream",
       "stream": "stdout",
       "text": [
        " \n",
        "\n",
        "IV26_Frances_Brightman_Predicting_Torsades_de_Pointes_risk_from_data_generated_via_highthroughput_screening.pdf"
       ]
      },
      {
       "output_type": "stream",
       "stream": "stdout",
       "text": [
        " \n",
        "\n",
        "IV54_Zeinab_Daher_Abdi_Analysis_of_the_relationship_between_Mycophenolic_acid_MPA_exposure_and_anemia_using_three_approaches_logistic_regression_based_on_Generalized_Linear_Mixed_Models_GLMM_or_on_Generalized_Estimating_Equations_GEE_and_Markov_mixedeffects_model.pdf"
       ]
      },
      {
       "output_type": "stream",
       "stream": "stdout",
       "text": [
        " \n",
        "\n",
        "I29_Elin_Svensson_Individualization_of_fixeddose_combination_FDC_regimens__methodology_and_application_to_pediatric_tuberculosis.pdf"
       ]
      },
      {
       "output_type": "stream",
       "stream": "stdout",
       "text": [
        " \n",
        "\n",
        "I51_Max_von_Kleist_Systems_Pharmacology_of_ChainTerminating_Nucleoside_Analogs.pdf"
       ]
      },
      {
       "output_type": "stream",
       "stream": "stdout",
       "text": [
        " \n",
        "\n",
        "II12_Nicolas_Frances_A_semiphysiologic_mathematical_model_describing_pharmacokinetic_profile_of_an_IgG_monoclonal_antibody_mAbX_after_IV_and_SC_administration_in_human_FcRn_transgenic_mice.pdf"
       ]
      },
      {
       "output_type": "stream",
       "stream": "stdout",
       "text": [
        " \n",
        "\n",
        "II22_Ekaterina_Gibiansky_Immunogenicity_in_PK_of_Monoclonal_Antibodies_Detection_and_Unbiased_Estimation_of_Model_Parameters.pdf"
       ]
      },
      {
       "output_type": "stream",
       "stream": "stdout",
       "text": [
        " \n",
        "\n",
        "II62_Gilbert_Koch_Solution_and_implementation_of_distributed_lifespan_models.pdf"
       ]
      },
      {
       "output_type": "stream",
       "stream": "stdout",
       "text": [
        " \n",
        "\n",
        "III13_Joanna_Lewis_A_homeostatic_model_for_CD4_count_recovery_in_HIVinfected_children.pdf"
       ]
      },
      {
       "output_type": "stream",
       "stream": "stdout",
       "text": [
        " \n",
        "\n",
        "IV25_Karl_Brendel_How_to_deal_properly_with_changepoint_model_in_NONMEM.pdf"
       ]
      },
      {
       "output_type": "stream",
       "stream": "stdout",
       "text": [
        " \n",
        "\n",
        "IV61_Cheikh_Diack_An_indirect_response_model_with_modulated_input_rate_to_characterize_the_dynamics_of_A\u03b240_in_cerebrospinal_fluid_.pdf"
       ]
      },
      {
       "output_type": "stream",
       "stream": "stdout",
       "text": [
        " \n",
        "\n",
        "I06_Elisabeth_Rouits_Population_pharmacokinetic_model_for_Debio_1143_a_novel_antagonist_of_IAPs_in_cancer_treatment__.pdf"
       ]
      },
      {
       "output_type": "stream",
       "stream": "stdout",
       "text": [
        " \n",
        "\n",
        "I11_Emilie_Schindler_PKPDModeling_of_VEGF_sVEGFR1_sVEGFR2_sVEGFR3_and_tumor_size_following_axitinib_treatment_in_metastatic_renal_cell_carcinoma_mRCC_patients.pdf"
       ]
      },
      {
       "output_type": "stream",
       "stream": "stdout",
       "text": [
        " \n",
        "\n",
        "I52_Camille_Vong_Semimechanistic_PKPD_model_of_thrombocytopenia_characterizing_the_effect_of_a_new_histone_deacetylase_inhibitor_HDACi_in_development_in_coadministration_with_doxorubicin.pdf"
       ]
      },
      {
       "output_type": "stream",
       "stream": "stdout",
       "text": [
        " \n",
        "\n",
        "II38_Emilie_H\u00e9nin_Optimization_of_sorafenib_dosing_regimen_using_the_concept_of_utility.pdf"
       ]
      },
      {
       "output_type": "stream",
       "stream": "stdout",
       "text": [
        " \n",
        "\n",
        "III10_Junghoon_Lee_Modeling_Targeted_Therapies_in_Oncology_Incorporation_of_Cellcycle_into_a_Tumor_Growth_Inhibition_Model.pdf"
       ]
      },
      {
       "output_type": "stream",
       "stream": "stdout",
       "text": [
        " \n",
        "\n",
        "III25_Paolo_Magni_A_PKPD_model_of_tumor_growth_after_administration_of_an_antiangiogenic_agent_given_alone_or_in_combination_therapies_in_xenograft_mice.pdf"
       ]
      },
      {
       "output_type": "stream",
       "stream": "stdout",
       "text": [
        " \n",
        "\n",
        "III32_Litaty_C\u00e9phano\u00e9e_Mbatchi_A_PKPGx_study_of_irinotecan_influence_of_genetic_polymorphisms_of_xenoreceptors_CAR_NR1I3_and_PXR_NR1I2_on_PK_parameters.pdf"
       ]
      },
      {
       "output_type": "stream",
       "stream": "stdout",
       "text": [
        " \n",
        "\n",
        "III58_Zinnia_ParraGuillen_Population_semimechanistic_modelling_of_tumour_response_elicited_by_Immunestimulatory_based_therapeutics_in_mice.pdf"
       ]
      },
      {
       "output_type": "stream",
       "stream": "stdout",
       "text": [
        " \n",
        "\n",
        "IV13_Guillaume_Baneyx_Modeling_Erlotinib_and_Gefitinib_in_Vitro_Penetration_through_Multiple_Layers_of_Epidermoid_and_Colorectal_Human_Carcinoma_Cells_.pdf"
       ]
      },
      {
       "output_type": "stream",
       "stream": "stdout",
       "text": [
        " \n",
        "\n",
        "IV55_Elyes_Dahmane_Population_Pharmacokinetics_of_Tamoxifen_and_three_of_its_metabolites_in_Breast_Cancer_patients.pdf"
       ]
      },
      {
       "output_type": "stream",
       "stream": "stdout",
       "text": [
        " \n",
        "\n",
        "I58_M\u00e9lanie_Wilbaux_A_drugindependent_model_predicting_ProgressionFree_Survival_to_support_early_drug_development_in_recurrent_ovarian_cancer.pdf"
       ]
      },
      {
       "output_type": "stream",
       "stream": "stdout",
       "text": [
        " \n",
        "\n",
        "II31_Verena_Gotta_Simulationbased_systematic_review_of_imatinib_population_pharmacokinetics_and_PKPD_relationships_in_chronic_myeloid_leukemia_CML_patients.pdf"
       ]
      },
      {
       "output_type": "stream",
       "stream": "stdout",
       "text": [
        " \n",
        "\n",
        "III26_Mathilde_Marchand_Population_Pharmacokinetics_and_ExposureResponse_Analyses_to_Support_Dose_Selection_of_Daratumumab_in_Multiple_Myeloma_Patients.pdf"
       ]
      },
      {
       "output_type": "stream",
       "stream": "stdout",
       "text": [
        " \n",
        "\n",
        "III31_Pauline_Mazzocco_Modeling_tumor_dynamics_and_overall_survival_in_patients_with_lowgrade_gliomas_treated_with_temozolomide.pdf"
       ]
      },
      {
       "output_type": "stream",
       "stream": "stdout",
       "text": [
        " \n",
        "\n",
        "III34_Christophe_Meille_Modeling_of_Erlotinib_Effect_on_Cell_Growth_Measured_by_in_vitro_Impedancebased_RealTime_Cell_Analysis.pdf"
       ]
      },
      {
       "output_type": "stream",
       "stream": "stdout",
       "text": [
        " \n",
        "\n",
        "III55_Ignacio_Ortega_Application_of_allometric_techniques_to_predict_F10503LO1_PK_parameters_in_human.pdf"
       ]
      },
      {
       "output_type": "stream",
       "stream": "stdout",
       "text": [
        " \n",
        "\n",
        "III64_Angelica_Quartino_Evaluation_of_Tumor_Size_Metrics_to_Predict_Survival_in_Advanced_Gastric_Cancer.pdf"
       ]
      },
      {
       "output_type": "stream",
       "stream": "stdout",
       "text": [
        " \n",
        "\n",
        "IV37_Quentin_Chalret_du_Rieu_Hematological_toxicity_modelling_of_abexinostat_S78454_PCI24781_a_new_histone_deacetylase_inhibitor_in_patients_suffering_from_solid_tumors_or_lymphoma_influence_of_the_diseaseprogression_on_the_druginduced_thrombocytopenia.pdf"
       ]
      },
      {
       "output_type": "stream",
       "stream": "stdout",
       "text": [
        " \n",
        "\n",
        "IV53_Damien_Cronier_PKPD_relationship_of_the_monoclonal_antiBAFF_antibody_tabalumab_in_combination_with_bortezomib_in_patients_with_previously_treated_multiple_myeloma_comparison_of_serum_Mprotein_and_serum_Free_Light_Chains_as_predictor_of_Progression_Free_Survival.pdf"
       ]
      },
      {
       "output_type": "stream",
       "stream": "stdout",
       "text": [
        " \n",
        "\n",
        "I08_Teijo_Saari_Pharmacokinetics_of_free_hydromorphone_concentrations_in_patients_after_cardiac_surgery.pdf"
       ]
      },
      {
       "output_type": "stream",
       "stream": "stdout",
       "text": [
        " \n",
        "\n",
        "I57_Sebastian_Weber_PKPD_assessment_of_tacrolimus_nephrotoxicity_in_liver_transplantation.pdf"
       ]
      },
      {
       "output_type": "stream",
       "stream": "stdout",
       "text": [
        " \n",
        "\n",
        "I62_Shuying_Yang_Firstorder_longitudinal_population_model_of_FEV1_data_singletrial_modeling_and_metaanalysis.pdf"
       ]
      },
      {
       "output_type": "stream",
       "stream": "stdout",
       "text": [
        " \n",
        "\n",
        "II57_Ana_Kalezic_Application_of_Item_Response_Theory_to_EDSS_Modeling_in_Multiple_Sclerosis.pdf"
       ]
      },
      {
       "output_type": "stream",
       "stream": "stdout",
       "text": [
        " \n",
        "\n",
        "III11_Tarek_Leil_PKPD_Modeling_using_4\u03b2Hydroxycholesterol_to_Predict_CYP3A_Mediated_Drug_Interactions.pdf"
       ]
      },
      {
       "output_type": "stream",
       "stream": "stdout",
       "text": [
        " \n",
        "\n",
        "III50_Jaeseong_Oh_A_Population_PharmacokineticPharmacodynamic_Analysis_of_Fimasartan_in_Patients_with_Mild_to_Moderate_Essential_Hypertension.pdf"
       ]
      },
      {
       "output_type": "stream",
       "stream": "stdout",
       "text": [
        " \n",
        "\n",
        "III56_Jeongki_Paek_Population_pharmacokinetic_model_of_sildenafil_describing_firstpass_effect_to_its_metabolite_.pdf"
       ]
      },
      {
       "output_type": "stream",
       "stream": "stdout",
       "text": [
        " \n",
        "\n",
        "IV09_Franc_Andreu_Solduga_Development_of_a_Bayesian_Estimator_for_Tacrolimus_in_Kidney_Transplant_Patients_A_Population_Pharmacokinetic_approach.pdf"
       ]
      },
      {
       "output_type": "stream",
       "stream": "stdout",
       "text": [
        " \n",
        "\n",
        "IV17_Roberto_Bizzotto_Characterization_of_binding_between_OSM_and_mAb_in_RA_patient_study_an_extension_to_TMDD_models.pdf"
       ]
      },
      {
       "output_type": "stream",
       "stream": "stdout",
       "text": [
        " \n",
        "\n",
        "IV42_Chunli_Chen_Design_optimization_for_characterization_of_rifampicin_pharmacokinetics_in_mouse.pdf"
       ]
      },
      {
       "output_type": "stream",
       "stream": "stdout",
       "text": [
        " \n",
        "\n",
        "I23_Christine_Staatz_Dosage_individulisation_of_tacroliums_in_adult_kidney_transplant_recipients.pdf"
       ]
      },
      {
       "output_type": "stream",
       "stream": "stdout",
       "text": [
        " \n",
        "\n",
        "I32_Amit_Taneja_From_Behaviour_to_Target_Evaluating_the_putative_correlation_between_clinical_pain_scales_and_biomarkers.pdf"
       ]
      },
      {
       "output_type": "stream",
       "stream": "stdout",
       "text": [
        " \n",
        "\n",
        "I45_Marc_Vandemeulebroecke_Literature_databases_integrating_information_on_diseases_and_their_treatments.pdf"
       ]
      },
      {
       "output_type": "stream",
       "stream": "stdout",
       "text": [
        " \n",
        "\n",
        "I48_Marie_Vigan_Modelling_the_evolution_of_two_biomarkers_in_Gaucher_patients_receiving_enzyme_replacement_therapy.pdf"
       ]
      },
      {
       "output_type": "stream",
       "stream": "stdout",
       "text": [
        " \n",
        "\n",
        "III05_C\u00e9dric_Laouenan_Modelling_early_viral_hepatitis_C_kinetics_in_compensated_cirrhotic_treatmentexperienced_patients_treated_with_triple_therapy_including_telaprevir_or_boceprevir_.pdf"
       ]
      },
      {
       "output_type": "stream",
       "stream": "stdout",
       "text": [
        " \n",
        "\n",
        "III54_Sean_Oosterholt_PKPD_modelling_of_PGE2_inhibition_and_dose_selection_of_a_novel_COX2_inhibitor_in_humans.pdf"
       ]
      },
      {
       "output_type": "stream",
       "stream": "stdout",
       "text": [
        " \n",
        "\n",
        "III57_Sung_Min_Park_Population_pharmacokineticpharmacodynamic_modeling_for_transformed_binary_effect_data_of_triflusal_in_healthy_Korean_male_volunteers.pdf"
       ]
      },
      {
       "output_type": "stream",
       "stream": "stdout",
       "text": [
        " \n",
        "\n",
        "IV15_Shanshan_Bi_Population_PharmacokineticPharmacodynamic_Modeling_of_Two_Novel_Neutral_Endopeptidase_Inhibitors_in_Healthy_Subjects.pdf"
       ]
      },
      {
       "output_type": "stream",
       "stream": "stdout",
       "text": [
        " \n",
        "\n",
        "IV19_Karina_Blei_Mechanism_of_Action_of_Jellyfish_Carukia_barnesi_Envenomation_and_its_Cardiovascular_Effects_Resulting_in_Irukandji_Syndrome.pdf"
       ]
      },
      {
       "output_type": "stream",
       "stream": "stdout",
       "text": [
        " \n",
        "\n",
        "IV41_Chao_Chen_A_mechanistic_model_for_the_involvement_of_the_neonatal_Fc_receptor_in_IgG_disposition.pdf"
       ]
      },
      {
       "output_type": "stream",
       "stream": "stdout",
       "text": [
        " \n",
        "\n",
        "Could not download page"
       ]
      },
      {
       "output_type": "stream",
       "stream": "stdout",
       "text": [
        "\n",
        "IV60_Paolo_Denti_A_semiphysiological_model_for_rifampicin_and_rifapentine_CYP3A_induction_on_midazolam_pharmacokinetics.pdf \n",
        "\n",
        "I60_Klintean_Wunnapuk_Population_analysis_of_paraquat_toxicokinetics_in_poisoning_patients.pdf"
       ]
      },
      {
       "output_type": "stream",
       "stream": "stdout",
       "text": [
        " \n",
        "\n",
        "II11_Sylvain_Fouliard_Semimechanistic_population_PKPD_modelling_of_a_surrogate_biomarker.pdf"
       ]
      },
      {
       "output_type": "stream",
       "stream": "stdout",
       "text": [
        " \n",
        "\n",
        "II18_Peter_Gennemark_Incorporating_model_structure_uncertainty_in_modelbased_drug_discovery_.pdf"
       ]
      },
      {
       "output_type": "stream",
       "stream": "stdout",
       "text": [
        " \n",
        "\n",
        "II32_Bruce_Green_Clinical_Application_of_a_KPD_Warfarin_Model_for_Bayesian_Dose_Individualisation_in_Primary_Care.pdf"
       ]
      },
      {
       "output_type": "stream",
       "stream": "stdout",
       "text": [
        " \n",
        "\n",
        "III16_KarlHeinz_Liesenfeld_Pharmacometric_Characterization_of_the_Elimination_of_Dabigatran_by_Haemodialysis.pdf"
       ]
      },
      {
       "output_type": "stream",
       "stream": "stdout",
       "text": [
        " \n",
        "\n",
        "III45_Thi_Huyen_Tram_Nguyen_Influence_of_a_priori_information_designs_and_undetectable_data_on_individual_parameters_estimation_and_prediction_of_hepatitis_C_treatment_outcome.pdf"
       ]
      },
      {
       "output_type": "stream",
       "stream": "stdout",
       "text": [
        " \n",
        "\n",
        "IV12_Ioanna_Athanasiadou_Simulation_of_the_effect_of_hyperhydration_on_urine_levels_of_recombinant_human_erythropoietin_from_a_doping_control_point_of_view_.pdf"
       ]
      },
      {
       "output_type": "stream",
       "stream": "stdout",
       "text": [
        " \n",
        "\n",
        "I17_Catherine__Sherwin_Dense_Data___Methods_to_Handle_Massive_Data_Sets_without_Compromise.pdf"
       ]
      },
      {
       "output_type": "stream",
       "stream": "stdout",
       "text": [
        " \n",
        "\n",
        "II10_Martin_Fink_Animal_Health_Modeling__Simulation_Society_AHMS_A_new_society_promoting_modelbased_approaches_for_a_better_integration_and_understanding_of_quantitative_pharmacology_in_Veterinary_Sciences.pdf"
       ]
      },
      {
       "output_type": "stream",
       "stream": "stdout",
       "text": [
        " \n",
        "\n",
        "II13_Chris_Franklin__Introducing_DDMoRe\u2019s_framework_within_an_existing_enterprise_modelling_and_simulation_environment_.pdf"
       ]
      },
      {
       "output_type": "stream",
       "stream": "stdout",
       "text": [
        " \n",
        "\n",
        "II28_JoseDavid_Gomez_Mantilla_Tailormade_dissolution_profile_comparisons_using_in_vitroin_vivo_correlation_models.pdf"
       ]
      },
      {
       "output_type": "stream",
       "stream": "stdout",
       "text": [
        " \n",
        "\n",
        "II45_Lorenzo_Ridolfi_Predictive_Modelling_Environment__Infrastructure_and_functionality_for_pharmacometric_activities_in_RD.pdf"
       ]
      },
      {
       "output_type": "stream",
       "stream": "stdout",
       "text": [
        " \n",
        "\n",
        "II64_Julia_Korell_Gaining_insight_into_red_blood_cell_destruction_mechanisms_using_a_previously_developed_semimechanistic_model.pdf"
       ]
      },
      {
       "output_type": "stream",
       "stream": "stdout",
       "text": [
        " \n",
        "\n",
        "IV18_Marcus_Bj\u00f6rnsson_Effect_on_bias_in_EC50_when_using_interval_censoring_or_exact_dropout_times_in_the_presence_of_informative_dropout.pdf"
       ]
      },
      {
       "output_type": "stream",
       "stream": "stdout",
       "text": [
        " \n",
        "\n",
        "IV38_Phylinda_Chan_Industry_Experience_in_Establishing_a_Population_Pharmacokinetic_Analysis_Guidance.pdf"
       ]
      },
      {
       "output_type": "stream",
       "stream": "stdout",
       "text": [
        " \n",
        "\n",
        "IV44_Marylore_Chenel_Population_Pharmacokinetic_Modelling_to_Detect_Potential_Drug_Interaction_Using_Sparse_Sampling_Data.pdf"
       ]
      },
      {
       "output_type": "stream",
       "stream": "stdout",
       "text": [
        " \n",
        "\n",
        "I15_Rik_Schoemaker_Scaling_brivaracetam_pharmacokinetic_parameters_from_adult_to_pediatric_epilepsy_patients.pdf"
       ]
      },
      {
       "output_type": "stream",
       "stream": "stdout",
       "text": [
        " \n",
        "\n",
        "II02_Anne_Dubois_Using_Optimal_Design_Methods_to_Help_the_Design_of_a_Paediatric_Pharmacokinetic_Study.pdf"
       ]
      },
      {
       "output_type": "stream",
       "stream": "stdout",
       "text": [
        " \n",
        "\n",
        "II15_Aline_Fuchs_Population_pharmacokinetic_study_of_gentamicin_a_retrospective_analysis_in_a_large_cohort_of_neonate_patients.pdf"
       ]
      },
      {
       "output_type": "stream",
       "stream": "stdout",
       "text": [
        " \n",
        "\n",
        "IV02_Rick_Admiraal_Exposure_to_the_biological_antithymocyte_globulin_ATG_in_children_receiving_allogeneichematopoietic_cell_transplantation_HCT_towards_individualized_dosing_to_improve_survival.pdf"
       ]
      },
      {
       "output_type": "stream",
       "stream": "stdout",
       "text": [
        " \n",
        "\n",
        "II08_Floris_Fauchet_Population_pharmacokinetics_of_Zidovudine_and_its_metabolite_in_HIV1_infected_children_Evaluation_doses_recommended.pdf"
       ]
      },
      {
       "output_type": "stream",
       "stream": "stdout",
       "text": [
        " \n",
        "\n",
        "II19_Eva_Germovsek_AgeCorrected_Creatinine_is_a_Significant_Covariate_for_Gentamicin_Clearance_in_Neonates.pdf"
       ]
      },
      {
       "output_type": "stream",
       "stream": "stdout",
       "text": [
        " \n",
        "\n",
        "II35_Vanessa_GuyViterbo_Tacrolimus_in_pediatric_liver_recipients_population_pharmacokinetic_analysis_during_the_first_year_post_transplantation.pdf"
       ]
      },
      {
       "output_type": "stream",
       "stream": "stdout",
       "text": [
        " \n",
        "\n",
        "III60_Sophie_Peigne_Paediatric_Pharmacokinetic_methodologies_Evaluation_and_comparison_.pdf"
       ]
      },
      {
       "output_type": "stream",
       "stream": "stdout",
       "text": [
        " \n",
        "\n",
        "IV62_Laura_Dickinson_Population_Pharmacokinetics_of_Twice_Daily_Zidovudine_ZDV_in_HIVInfected_Children_and_an_Assessment_of_ZDV_Exposure_Following_WHO_Dosing_Guidelines.pdf"
       ]
      },
      {
       "output_type": "stream",
       "stream": "stdout",
       "text": [
        " \n",
        "\n",
        "I18_Giovanni_Smania_Identifying_the_translational_gap_in_the_evaluation_of_druginduced_QTc_interval_prolongation.pdf"
       ]
      },
      {
       "output_type": "stream",
       "stream": "stdout",
       "text": [
        " \n",
        "\n",
        "II20_TJ_Carrothers_Comparison_of_Analysis_Methods_for_Population_ExposureResponse_in_Thorough_QT_Studies.pdf"
       ]
      },
      {
       "output_type": "stream",
       "stream": "stdout",
       "text": [
        " \n",
        "\n",
        "III63_Sebastian_Polak_Pharmacokinetic_PK_and_pharmacodynamic_PD_implications_of_diurnal_variation_of_gastric_emptying_and_small_intestinal_transit_time_for_quinidine_A_mechanistic_simulation.pdf"
       ]
      },
      {
       "output_type": "stream",
       "stream": "stdout",
       "text": [
        " \n",
        "\n",
        "I61_Rujia_Xie_Population_PKQT_analysis_across_Phase_I_studies_for_a_p38_mitogen_activated_protein_kinase_inhibitor_\u2013_PH797804.pdf"
       ]
      },
      {
       "output_type": "stream",
       "stream": "stdout",
       "text": [
        " \n",
        "\n",
        "III17_Otilia_Lillin_Modelbased_QTc_interval_risk_assessment_in_Phase_1_studies_and_its_impact_on_the_drug_development_trajectory.pdf"
       ]
      },
      {
       "output_type": "stream",
       "stream": "stdout",
       "text": [
        " \n",
        "\n",
        "IV35_Anne_Chain_NotInTrial_Simulations_A_tool_for_mitigating_cardiovascular_safety_risks_.pdf"
       ]
      },
      {
       "output_type": "stream",
       "stream": "stdout",
       "text": [
        " \n",
        "\n",
        "I27_Eric_Str\u00f6mberg_FIM_approximation_spreading_of_optimal_sampling_times_and_their_effect_on_parameter_bias_and_precision.pdf"
       ]
      },
      {
       "output_type": "stream",
       "stream": "stdout",
       "text": [
        " \n",
        "\n",
        "III04_Anders_Kristoffersson_Inter_Occasion_Variability_IOV_in_Individual_Optimal_Design_OD_.pdf"
       ]
      },
      {
       "output_type": "stream",
       "stream": "stdout",
       "text": [
        " \n",
        "\n",
        "II03_Cyrielle_Dumont_Influence_of_the_ratio_of_the_sample_sizes_between_the_two_stages_of_an_adaptive_design_application_for_a_population_pharmacokinetic_study_in_children_.pdf"
       ]
      },
      {
       "output_type": "stream",
       "stream": "stdout",
       "text": [
        " \n",
        "\n",
        "II37_Michael_Heathman_The_Application_of_DrugDisease_and_Clinical_Utility_Models_in_the_Design_of_an_Adaptive_Seamless_Phase_23_Study.pdf"
       ]
      },
      {
       "output_type": "stream",
       "stream": "stdout",
       "text": [
        " \n",
        "\n",
        "IV10_Yasunori_Aoki_PopED_lite_an_easy_to_use_experimental_design_software_for_preclinical_studies_.pdf"
       ]
      },
      {
       "output_type": "stream",
       "stream": "stdout",
       "text": [
        " \n",
        "\n",
        "IV50_Francois_Combes_Influence_of_study_design_and_associated_shrinkage_on_power_of_the_tests_used_for_covariate_detection_in_population_pharmacokinetics.pdf"
       ]
      },
      {
       "output_type": "stream",
       "stream": "stdout",
       "text": [
        " \n",
        "\n"
       ]
      }
     ],
     "prompt_number": 471
    }
   ],
   "metadata": {}
  }
 ]
}