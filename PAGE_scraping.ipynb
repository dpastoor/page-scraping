{
 "metadata": {
  "name": "",
  "signature": "sha256:eec0ee2ca65a2e55027fed176117d19a3d67dd098d77c8f7ec903e21c59d0e6f"
 },
 "nbformat": 3,
 "nbformat_minor": 0,
 "worksheets": [
  {
   "cells": [
    {
     "cell_type": "code",
     "collapsed": false,
     "input": [
      "from bs4 import BeautifulSoup\n",
      "from urllib.request import urlopen\n",
      "import re # regular expressions"
     ],
     "language": "python",
     "metadata": {},
     "outputs": [],
     "prompt_number": 59
    },
    {
     "cell_type": "code",
     "collapsed": false,
     "input": [
      "url = \"http://www.page-meeting.org/default.asp?abstract=2693\""
     ],
     "language": "python",
     "metadata": {},
     "outputs": [],
     "prompt_number": 28
    },
    {
     "cell_type": "code",
     "collapsed": false,
     "input": [
      "url_html = urlopen(url).read()"
     ],
     "language": "python",
     "metadata": {},
     "outputs": [],
     "prompt_number": 29
    },
    {
     "cell_type": "code",
     "collapsed": false,
     "input": [
      "soup = BeautifulSoup(url_html)"
     ],
     "language": "python",
     "metadata": {},
     "outputs": [],
     "prompt_number": 33
    },
    {
     "cell_type": "markdown",
     "metadata": {},
     "source": [
      "Testing basics of beautiful soup"
     ]
    },
    {
     "cell_type": "code",
     "collapsed": false,
     "input": [
      "print(soup.title)"
     ],
     "language": "python",
     "metadata": {},
     "outputs": [
      {
       "output_type": "stream",
       "stream": "stdout",
       "text": [
        "<title>Welcome to the Population Approach Group in Europe</title>\n"
       ]
      }
     ],
     "prompt_number": 34
    },
    {
     "cell_type": "code",
     "collapsed": false,
     "input": [
      "print(soup.title.text)"
     ],
     "language": "python",
     "metadata": {},
     "outputs": [
      {
       "output_type": "stream",
       "stream": "stdout",
       "text": [
        "Welcome to the Population Approach Group in Europe\n"
       ]
      }
     ],
     "prompt_number": 32
    },
    {
     "cell_type": "code",
     "collapsed": false,
     "input": [
      "print(soup.body)"
     ],
     "language": "python",
     "metadata": {},
     "outputs": [
      {
       "output_type": "stream",
       "stream": "stdout",
       "text": [
        "<body bgcolor=\"#AABBBB\">\n",
        "<table align=\"center\" border=\"0\" cellpadding=\"0\" cellspacing=\"0\" width=\"975\">\n",
        "<tr>\n",
        "<td colspan=\"7\">\n",
        "<img height=\"6\" src=\"images/page_01.gif\" width=\"775\"/></td>\n",
        "</tr>\n",
        "<tr>\n",
        "<td rowspan=\"2\">\n",
        "<img height=\"0\" src=\"images/spacer.gif\" width=\"8\"/></td>\n",
        "<td colspan=\"2\" rowspan=\"2\" valign=\"BOTTOM\">\n",
        "<a href=\"default.asp\"><img border=\"0\" src=\"images/logoNew.gif\"/></a></td>\n",
        "<td colspan=\"2\" valign=\"BOTTOM\">\n",
        "<img height=\"39\" src=\"images/page_04.gif\" width=\"562\"/></td>\n",
        "<td>\n",
        "<img height=\"1\" src=\"images/page_05.gif\" width=\"12\"/></td>\n",
        "</tr>\n",
        "<tr>\n",
        "<td bgcolor=\"#ffffff\" colspan=\"2\">\n",
        "<img height=\"12\" src=\"images/spacer.gif\" width=\"562\"/></td>\n",
        "<td bgcolor=\"#ffffff\" valign=\"top\">\n",
        "<img height=\"12\" src=\"images/page_08.gif\" width=\"12\"/></td>\n",
        "</tr>\n",
        "<tr>\n",
        "<td bgcolor=\"#aabbbb\" rowspan=\"1\">\u00a0</td>\n",
        "<td align=\"center\" bgcolor=\"#FEE109\" cellpadding=\"0\" cellspacing=\"0\" colspan=\"2\" style=\"background-image:url(images/bg-menuNieuw.gif);\" valign=\"top\" width=\"234\" wrap=\"\">\n",
        "<img height=\"40\" src=\"images/onderschrift_logo.gif\" width=\"234\"><br>\n",
        "<!-- TABEL MET MENUITEMS -->\n",
        "<table background=\"\" bgcolor=\"#FEE109\" border=\"0\" cellpadding=\"4\" cellspacing=\"0\" width=\"234\" wrap=\"\">\n",
        "<tr>\n",
        "<td style=\"padding:15px;\" width=\"100%\" wrap=\"\"><br>\n",
        "<!-- Laatste meeting -->\n",
        "<center><a href=\"default.asp?id=38&amp;keuze=profile&amp;profile_id=\"><img alt=\"My Profile\" border=\"0\" height=\"36\" src=\"images/btn-profile.gif\" width=\"125\"/></a></center>\n",
        "<br>\n",
        "<center><a href=\"default.asp?keuze=search\"><img alt=\"Search abstracts\" border=\"0\" height=\"36\" src=\"images/btn-search.gif\" width=\"125\"/></a></center>\n",
        "<br>\n",
        "<center><a href=\"default.asp?id=38&amp;keuze=sheiner\"><img alt=\"Lewis Sheiner\" border=\"0\" height=\"36\" src=\"images/btn-lewis.gif\" width=\"125\"/></a></center>\n",
        "<br><br>\n",
        "<span class=\"menuitem\"><font color=\"#ff3300\" size=\"+2\">2014</font></span><br><a href=\"default.asp?id=38&amp;keuze=meeting\"><span class=\"menuitem\">Alicante, Spain</span></a><br><br><br><hr color=\"#000099\">\n",
        "<!-- Overige meetings -->\n",
        "<span class=\"menuitem\"><font size=\"+2\">2013</font></span><br><a href=\"default.asp?id=37&amp;keuze=meeting\"><span class=\"menuitem\">Glasgow, Scotland</span></a><br><br><span class=\"menuitem\"><font size=\"+2\">2012</font></span><br><a href=\"default.asp?id=36&amp;keuze=meeting\"><span class=\"menuitem\">Venice, Italy</span></a><br><br><span class=\"menuitem\"><font size=\"+2\">2011</font></span><br><a href=\"default.asp?id=35&amp;keuze=meeting\"><span class=\"menuitem\">Athens, Greece</span></a><br><br><span class=\"menuitem\"><font size=\"+2\">2010</font></span><br><a href=\"default.asp?id=34&amp;keuze=meeting\"><span class=\"menuitem\">Berlin, Germany</span></a><br><br><span class=\"menuitem\"><font size=\"+2\">2009</font></span><br><a href=\"default.asp?id=33&amp;keuze=meeting\"><span class=\"menuitem\">St. Petersburg, Russia</span></a><br><br><span class=\"menuitem\"><font size=\"+2\">2008</font></span><br><a href=\"default.asp?id=32&amp;keuze=meeting\"><span class=\"menuitem\">Marseille, France</span></a><br><br><span class=\"menuitem\"><font size=\"+2\">2007</font></span><br><a href=\"default.asp?id=31&amp;keuze=meeting\"><span class=\"menuitem\">K\u00f8benhavn, Denmark</span></a><br><br><span class=\"menuitem\"><font size=\"+2\">2006</font></span><br><a href=\"default.asp?id=30&amp;keuze=meeting\"><span class=\"menuitem\">Brugge/Bruges, Belgium</span></a><br><br><span class=\"menuitem\"><font size=\"+2\">2005</font></span><br><a href=\"default.asp?id=26&amp;keuze=meeting\"><span class=\"menuitem\">Pamplona, Spain</span></a><br><br><span class=\"menuitem\"><font size=\"+2\">2004</font></span><br><a href=\"default.asp?id=24&amp;keuze=meeting\"><span class=\"menuitem\">Uppsala, Sweden</span></a><br><br><span class=\"menuitem\"><font size=\"+2\">2003</font></span><br><a href=\"default.asp?id=23&amp;keuze=meeting\"><span class=\"menuitem\">Verona, Italy</span></a><br><br><span class=\"menuitem\"><font size=\"+2\">2002</font></span><br><a href=\"default.asp?id=22&amp;keuze=meeting\"><span class=\"menuitem\">Paris, France</span></a><br><br><span class=\"menuitem\"><font size=\"+2\">2001</font></span><br><a href=\"default.asp?id=21&amp;keuze=meeting\"><span class=\"menuitem\">Basel, Switzerland</span></a><br><br><span class=\"menuitem\"><font size=\"+2\">2000</font></span><br><a href=\"default.asp?id=20&amp;keuze=meeting\"><span class=\"menuitem\">Salamanca, Spain</span></a><br><br><span class=\"menuitem\"><font size=\"+2\">1999</font></span><br><a href=\"default.asp?id=19&amp;keuze=meeting\"><span class=\"menuitem\">Saintes, France</span></a><br><br><span class=\"menuitem\"><font size=\"+2\">1998</font></span><br><a href=\"default.asp?id=18&amp;keuze=meeting\"><span class=\"menuitem\">Wuppertal, Germany</span></a><br><br><span class=\"menuitem\"><font size=\"+2\">1997</font></span><br><a href=\"default.asp?id=17&amp;keuze=meeting\"><span class=\"menuitem\">Glasgow, Scotland</span></a><br><br><span class=\"menuitem\"><font size=\"+2\">1996</font></span><br><a href=\"default.asp?id=16&amp;keuze=meeting\"><span class=\"menuitem\">Sandwich, UK</span></a><br><br><span class=\"menuitem\"><font size=\"+2\">1995</font></span><br><a href=\"default.asp?id=14&amp;keuze=meeting\"><span class=\"menuitem\">Frankfurt, Germany</span></a><br><br><span class=\"menuitem\"><font size=\"+2\">1994</font></span><br><a href=\"default.asp?id=29&amp;keuze=meeting\"><span class=\"menuitem\">Greenford, UK</span></a><br><br><span class=\"menuitem\"><font size=\"+2\">1993</font></span><br><a href=\"default.asp?id=28&amp;keuze=meeting\"><span class=\"menuitem\">Paris, France</span></a><br><br><span class=\"menuitem\"><font size=\"+2\">1992</font></span><br><a href=\"default.asp?id=27&amp;keuze=meeting\"><span class=\"menuitem\">Basel, Switzerland</span></a><br><br>\n",
        "</br></br></br></br></br></br></br></br></br></br></br></br></br></br></br></br></br></br></br></br></br></br></br></br></br></br></br></br></br></br></br></br></br></br></br></br></br></br></br></br></br></br></br></br></br></br></br></br></br></br></br></br></br></br></br></br></br></br></br></br></br></br></br></br></br></br></hr></br></br></br></br></br></br></br></br></br></td>\n",
        "</tr>\n",
        "</table>\n",
        "<!-- EINDE TABEL MET MENUITEMS -->\n",
        "<img border=\"0\" height=\"24\" hspace=\"0\" src=\"images/footer_menu.gif\" vspace=\"0\" width=\"234\">\n",
        "</img></br></img></td>\n",
        "<td bgcolor=\"#ffffff\" rowspan=\"1\">\n",
        "<img height=\"409\" src=\"images/spacer.gif\" width=\"13\"/></td>\n",
        "<!-- BEGIN CEL MET CONTENT -->\n",
        "<td bgcolor=\"#ffffff\" height=\"0\" rowspan=\"1\" valign=\"top\" width=\"720\">\n",
        "<script>\r\n",
        "function confirmUpload() {\r\n",
        "\tif(document.pdf.file.value == \"\") {\r\n",
        "\t\talert(\"You must select a pdf file\");\r\n",
        "\t} else {\r\n",
        "\tdocument.pdf.submit();\r\n",
        "\t}\r\n",
        "}\r\n",
        "\r\n",
        "function confirmDelete() {\r\n",
        "\tvar agree=confirm(\"Are you sure you want to delete the file?\");\r\n",
        "\tif (agree) {\r\n",
        "\t\treturn true ;\r\n",
        "\t}\r\n",
        "\telse {\r\n",
        "\t\treturn false ;\r\n",
        "\t}\r\n",
        "}\r\n",
        "</script>\n",
        "<input onclick=\"history.back(-1)\" type=\"button\" value=\"Back\">\n",
        "<br><br>\n",
        "<strong style=\"color:#FF3300;font-size:10px;\">\n",
        "<a href=\"#\" onclick=\"window.open('print_abstract.asp?abstract_id=2693',null,'height=500,width=550,status=no,toolbar=no,menubar=no,location=no,scrollbars=1');\">Printable version</a>\n",
        "<br><br>\t\r\n",
        "\tPAGE. Abstracts of the Annual Meeting of the Population Approach Group in Europe. <br>\r\n",
        "\tISSN 1871-6032\r\n",
        "\t<br><br>\t\r\n",
        "\t\r\n",
        "\tReference:<br>\t\r\n",
        "\t PAGE 22 (2013) Abstr 2693 [www.page-meeting.org/?abstract=2693]</br></br></br></br></br></br></strong><br><br>\r\n",
        "\t\r\n",
        "\r\n",
        "PDF poster/presentation:<br/><a href=\"pdf_assets/5945-Posterlo11.pdf\" target=\"_blank\"><img align=\"absmiddle\" alt=\"Click to open\" border=\"0\" src=\"images/pdf.gif\"/>Click to open</a><br/><br/><h3>Poster: Model Evaluation</h3><hr/><p><strong><h2>I-21 <a class=\"author\" href=\"/default.asp?id=&amp;keuze=profile&amp;profile_id=458\">Heiner\u00a0Speth</a> Referenced Visual Predictive Check (rVPC)</h2></strong></p><p>Heiner Speth, Martin Burschka, Ruediger Port</p><p></p><p><strong>Objectives:</strong> The prediction-corrected VPC (pcVPC) [1] reduces the variance in the observed data and in the model distributions by normalizing to an \"identically distributed\" situation for all individuals. The computation of the prediction correction factor for each bin separately, limits this method to situations of balanced data within each bin. The goal is to extend the prediction-corrected VPC to situations of sparse and unbalanced data by avoiding binning on the independent variable (idv) scale and to show:\u00a0<br/>1. The equivalence of the new rVPC method to the pcVPC in cases of balanced data.<br/>2. The robustness of the rVPC in cases of sparse and unbalanced data.<br/>In addition to model evaluation, the rVPC is to provide a base for discussion with clinicians on dosing adequacy in untypical individuals.</p><p><strong>Methods:</strong> For every observation, the model is requested to give a normalized prediction, based on a data tuple of normalized covariate values (reference) and the same random effects from the fit for this observation. The implementation is particularly simple in NONMEM.</p><p><strong>Results:</strong> The rVPC is independent from binning and calculates the correct reference factor in any observed/ simulated data-point.</p><p><strong>Conclusions:</strong> The rVPC implements the idea of covariate adjusting to any kind of data and allows an arbitrary choice of referenced covariate values.</p><p><strong>References:</strong> <br/>[1] Bergstrand, M., Hooker, A.C., Wallin, J.E., Karlsson, M.O.: Prediction-corrected visual predictive checks for diagnosing nonlinear mixed-e\ufb00ects models. The AAPS Journal pp. 1-9 (2011)<br/></p><br/><br/>\n",
        "</br></br></br></br></input></td>\n",
        "<!-- EINDE CEL MET CONTENT -->\n",
        "<td bgcolor=\"#ffffff\" rowspan=\"1\">\u00a0\r\n",
        "\t\t</td>\n",
        "</tr>\n",
        "<tr>\n",
        "<td bgcolor=\"#aabbbb\">\u00a0</td>\n",
        "<td bgcolor=\"#aabbbb\">\n",
        "<img height=\"1\" src=\"images/spacer.gif\" width=\"163\"/></td>\n",
        "<td bgcolor=\"#ffffff\" valign=\"BOTTOM\">\n",
        "<img height=\"18\" src=\"images/page_19.gif\" width=\"14\"/></td>\n",
        "<td bgcolor=\"#ffffff\">\n",
        "<img height=\"1\" src=\"images/spacer.gif\" width=\"13\"/></td>\n",
        "<td bgcolor=\"#ffffff\">\n",
        "<img height=\"1\" src=\"images/spacer.gif\" width=\"561\"/></td>\n",
        "<td bgcolor=\"#ffffff\" valign=\"BOTTOM\">\n",
        "<img height=\"18\" src=\"images/page_22.gif\" width=\"12\"/></td>\n",
        "</tr>\n",
        "</table>\n",
        "</body>\n"
       ]
      }
     ],
     "prompt_number": 35
    },
    {
     "cell_type": "code",
     "collapsed": false,
     "input": [
      "print(soup.body.text)"
     ],
     "language": "python",
     "metadata": {},
     "outputs": [
      {
       "output_type": "stream",
       "stream": "stdout",
       "text": [
        "\n",
        "\n",
        "\n",
        "\n",
        "\n",
        "\n",
        "\n",
        "\n",
        "\n",
        "\n",
        "\n",
        "\n",
        "\n",
        "\n",
        "\n",
        "\n",
        "\n",
        "\n",
        "\n",
        "\n",
        "\n",
        "\n",
        "\n",
        "\u00a0\n",
        "\n",
        "\n",
        "\n",
        "\n",
        "\n",
        "\n",
        "\n",
        "\n",
        "\n",
        "\n",
        "\n",
        "\n",
        "\n",
        "2014Alicante, Spain\n",
        "\n",
        "2013Glasgow, Scotland2012Venice, Italy2011Athens, Greece2010Berlin, Germany2009St. Petersburg, Russia2008Marseille, France2007K\u00f8benhavn, Denmark2006Brugge/Bruges, Belgium2005Pamplona, Spain2004Uppsala, Sweden2003Verona, Italy2002Paris, France2001Basel, Switzerland2000Salamanca, Spain1999Saintes, France1998Wuppertal, Germany1997Glasgow, Scotland1996Sandwich, UK1995Frankfurt, Germany1994Greenford, UK1993Paris, France1992Basel, Switzerland\n",
        "\n",
        "\n",
        "\n",
        "\n",
        "\n",
        "\n",
        "\n",
        "\n",
        "\n",
        "\n",
        "\r\n",
        "function confirmUpload() {\r\n",
        "\tif(document.pdf.file.value == \"\") {\r\n",
        "\t\talert(\"You must select a pdf file\");\r\n",
        "\t} else {\r\n",
        "\tdocument.pdf.submit();\r\n",
        "\t}\r\n",
        "}\r\n",
        "\r\n",
        "function confirmDelete() {\r\n",
        "\tvar agree=confirm(\"Are you sure you want to delete the file?\");\r\n",
        "\tif (agree) {\r\n",
        "\t\treturn true ;\r\n",
        "\t}\r\n",
        "\telse {\r\n",
        "\t\treturn false ;\r\n",
        "\t}\r\n",
        "}\r\n",
        "\n",
        "\n",
        "\n",
        "\n",
        "Printable version\n",
        "\t\r\n",
        "\tPAGE. Abstracts of the Annual Meeting of the Population Approach Group in Europe. \r\n",
        "\tISSN 1871-6032\r\n",
        "\t\t\r\n",
        "\t\r\n",
        "\tReference:\t\r\n",
        "\t PAGE 22 (2013) Abstr 2693 [www.page-meeting.org/?abstract=2693]\r\n",
        "\t\r\n",
        "\r\n",
        "PDF poster/presentation:Click to openPoster: Model EvaluationI-21 Heiner\u00a0Speth Referenced Visual Predictive Check (rVPC)Heiner Speth, Martin Burschka, Ruediger PortObjectives: The prediction-corrected VPC (pcVPC) [1] reduces the variance in the observed data and in the model distributions by normalizing to an \"identically distributed\" situation for all individuals. The computation of the prediction correction factor for each bin separately, limits this method to situations of balanced data within each bin. The goal is to extend the prediction-corrected VPC to situations of sparse and unbalanced data by avoiding binning on the independent variable (idv) scale and to show:\u00a01. The equivalence of the new rVPC method to the pcVPC in cases of balanced data.2. The robustness of the rVPC in cases of sparse and unbalanced data.In addition to model evaluation, the rVPC is to provide a base for discussion with clinicians on dosing adequacy in untypical individuals.Methods: For every observation, the model is requested to give a normalized prediction, based on a data tuple of normalized covariate values (reference) and the same random effects from the fit for this observation. The implementation is particularly simple in NONMEM.Results: The rVPC is independent from binning and calculates the correct reference factor in any observed/ simulated data-point.Conclusions: The rVPC implements the idea of covariate adjusting to any kind of data and allows an arbitrary choice of referenced covariate values.References: [1] Bergstrand, M., Hooker, A.C., Wallin, J.E., Karlsson, M.O.: Prediction-corrected visual predictive checks for diagnosing nonlinear mixed-e\ufb00ects models. The AAPS Journal pp. 1-9 (2011)\n",
        "\n",
        "\n",
        "\u00a0\r\n",
        "\t\t\n",
        "\n",
        "\n",
        "\u00a0\n",
        "\n",
        "\n",
        "\n",
        "\n",
        "\n",
        "\n",
        "\n",
        "\n",
        "\n",
        "\n",
        "\n",
        "\n",
        "\n"
       ]
      }
     ],
     "prompt_number": 36
    },
    {
     "cell_type": "code",
     "collapsed": false,
     "input": [
      "for a in soup.find_all('a', href=True):\n",
      "    print(a['href'])"
     ],
     "language": "python",
     "metadata": {},
     "outputs": [
      {
       "output_type": "stream",
       "stream": "stdout",
       "text": [
        "default.asp\n",
        "default.asp?id=38&keuze=profile&profile_id=\n",
        "default.asp?keuze=search\n",
        "default.asp?id=38&keuze=sheiner\n",
        "default.asp?id=38&keuze=meeting\n",
        "default.asp?id=37&keuze=meeting\n",
        "default.asp?id=36&keuze=meeting\n",
        "default.asp?id=35&keuze=meeting\n",
        "default.asp?id=34&keuze=meeting\n",
        "default.asp?id=33&keuze=meeting\n",
        "default.asp?id=32&keuze=meeting\n",
        "default.asp?id=31&keuze=meeting\n",
        "default.asp?id=30&keuze=meeting\n",
        "default.asp?id=26&keuze=meeting\n",
        "default.asp?id=24&keuze=meeting\n",
        "default.asp?id=23&keuze=meeting\n",
        "default.asp?id=22&keuze=meeting\n",
        "default.asp?id=21&keuze=meeting\n",
        "default.asp?id=20&keuze=meeting\n",
        "default.asp?id=19&keuze=meeting\n",
        "default.asp?id=18&keuze=meeting\n",
        "default.asp?id=17&keuze=meeting\n",
        "default.asp?id=16&keuze=meeting\n",
        "default.asp?id=14&keuze=meeting\n",
        "default.asp?id=29&keuze=meeting\n",
        "default.asp?id=28&keuze=meeting\n",
        "default.asp?id=27&keuze=meeting\n",
        "#\n",
        "pdf_assets/5945-Posterlo11.pdf\n",
        "/default.asp?id=&keuze=profile&profile_id=458\n"
       ]
      }
     ],
     "prompt_number": 37
    },
    {
     "cell_type": "code",
     "collapsed": false,
     "input": [
      "print(soup.find_all('a', href = True))"
     ],
     "language": "python",
     "metadata": {},
     "outputs": [
      {
       "output_type": "stream",
       "stream": "stdout",
       "text": [
        "[<a href=\"default.asp\"><img border=\"0\" src=\"images/logoNew.gif\"/></a>, <a href=\"default.asp?id=38&amp;keuze=profile&amp;profile_id=\"><img alt=\"My Profile\" border=\"0\" height=\"36\" src=\"images/btn-profile.gif\" width=\"125\"/></a>, <a href=\"default.asp?keuze=search\"><img alt=\"Search abstracts\" border=\"0\" height=\"36\" src=\"images/btn-search.gif\" width=\"125\"/></a>, <a href=\"default.asp?id=38&amp;keuze=sheiner\"><img alt=\"Lewis Sheiner\" border=\"0\" height=\"36\" src=\"images/btn-lewis.gif\" width=\"125\"/></a>, <a href=\"default.asp?id=38&amp;keuze=meeting\"><span class=\"menuitem\">Alicante, Spain</span></a>, <a href=\"default.asp?id=37&amp;keuze=meeting\"><span class=\"menuitem\">Glasgow, Scotland</span></a>, <a href=\"default.asp?id=36&amp;keuze=meeting\"><span class=\"menuitem\">Venice, Italy</span></a>, <a href=\"default.asp?id=35&amp;keuze=meeting\"><span class=\"menuitem\">Athens, Greece</span></a>, <a href=\"default.asp?id=34&amp;keuze=meeting\"><span class=\"menuitem\">Berlin, Germany</span></a>, <a href=\"default.asp?id=33&amp;keuze=meeting\"><span class=\"menuitem\">St. Petersburg, Russia</span></a>, <a href=\"default.asp?id=32&amp;keuze=meeting\"><span class=\"menuitem\">Marseille, France</span></a>, <a href=\"default.asp?id=31&amp;keuze=meeting\"><span class=\"menuitem\">K\u00f8benhavn, Denmark</span></a>, <a href=\"default.asp?id=30&amp;keuze=meeting\"><span class=\"menuitem\">Brugge/Bruges, Belgium</span></a>, <a href=\"default.asp?id=26&amp;keuze=meeting\"><span class=\"menuitem\">Pamplona, Spain</span></a>, <a href=\"default.asp?id=24&amp;keuze=meeting\"><span class=\"menuitem\">Uppsala, Sweden</span></a>, <a href=\"default.asp?id=23&amp;keuze=meeting\"><span class=\"menuitem\">Verona, Italy</span></a>, <a href=\"default.asp?id=22&amp;keuze=meeting\"><span class=\"menuitem\">Paris, France</span></a>, <a href=\"default.asp?id=21&amp;keuze=meeting\"><span class=\"menuitem\">Basel, Switzerland</span></a>, <a href=\"default.asp?id=20&amp;keuze=meeting\"><span class=\"menuitem\">Salamanca, Spain</span></a>, <a href=\"default.asp?id=19&amp;keuze=meeting\"><span class=\"menuitem\">Saintes, France</span></a>, <a href=\"default.asp?id=18&amp;keuze=meeting\"><span class=\"menuitem\">Wuppertal, Germany</span></a>, <a href=\"default.asp?id=17&amp;keuze=meeting\"><span class=\"menuitem\">Glasgow, Scotland</span></a>, <a href=\"default.asp?id=16&amp;keuze=meeting\"><span class=\"menuitem\">Sandwich, UK</span></a>, <a href=\"default.asp?id=14&amp;keuze=meeting\"><span class=\"menuitem\">Frankfurt, Germany</span></a>, <a href=\"default.asp?id=29&amp;keuze=meeting\"><span class=\"menuitem\">Greenford, UK</span></a>, <a href=\"default.asp?id=28&amp;keuze=meeting\"><span class=\"menuitem\">Paris, France</span></a>, <a href=\"default.asp?id=27&amp;keuze=meeting\"><span class=\"menuitem\">Basel, Switzerland</span></a>, <a href=\"#\" onclick=\"window.open('print_abstract.asp?abstract_id=2693',null,'height=500,width=550,status=no,toolbar=no,menubar=no,location=no,scrollbars=1');\">Printable version</a>, <a href=\"pdf_assets/5945-Posterlo11.pdf\" target=\"_blank\"><img align=\"absmiddle\" alt=\"Click to open\" border=\"0\" src=\"images/pdf.gif\"/>Click to open</a>, <a class=\"author\" href=\"/default.asp?id=&amp;keuze=profile&amp;profile_id=458\">Heiner\u00a0Speth</a>]\n"
       ]
      }
     ],
     "prompt_number": 40
    },
    {
     "cell_type": "code",
     "collapsed": false,
     "input": [
      "hrefs = soup.find_all('a', href = True)"
     ],
     "language": "python",
     "metadata": {},
     "outputs": [],
     "prompt_number": 42
    },
    {
     "cell_type": "code",
     "collapsed": false,
     "input": [
      "hrefs[1]"
     ],
     "language": "python",
     "metadata": {},
     "outputs": [
      {
       "metadata": {},
       "output_type": "pyout",
       "prompt_number": 45,
       "text": [
        "<a href=\"default.asp?id=38&amp;keuze=profile&amp;profile_id=\"><img alt=\"My Profile\" border=\"0\" height=\"36\" src=\"images/btn-profile.gif\" width=\"125\"/></a>"
       ]
      }
     ],
     "prompt_number": 45
    },
    {
     "cell_type": "code",
     "collapsed": false,
     "input": [
      "pdf_assets = soup.findAll('a', attrs={'href': re.compile(\"pdf_assets\")})"
     ],
     "language": "python",
     "metadata": {},
     "outputs": [],
     "prompt_number": 66
    },
    {
     "cell_type": "code",
     "collapsed": false,
     "input": [
      "for a in pdf_assets:\n",
      "    print(a['href'])"
     ],
     "language": "python",
     "metadata": {},
     "outputs": [
      {
       "output_type": "stream",
       "stream": "stdout",
       "text": [
        "pdf_assets/5945-Posterlo11.pdf\n"
       ]
      }
     ],
     "prompt_number": 74
    },
    {
     "cell_type": "markdown",
     "metadata": {},
     "source": [
      "This is another way to search for inside the href tag"
     ]
    },
    {
     "cell_type": "code",
     "collapsed": false,
     "input": [
      "soup.find_all(href=re.compile(\"pdf_assets\"))"
     ],
     "language": "python",
     "metadata": {},
     "outputs": [
      {
       "metadata": {},
       "output_type": "pyout",
       "prompt_number": 81,
       "text": [
        "[<a href=\"pdf_assets/5945-Posterlo11.pdf\" target=\"_blank\"><img align=\"absmiddle\" alt=\"Click to open\" border=\"0\" src=\"images/pdf.gif\"/>Click to open</a>]"
       ]
      }
     ],
     "prompt_number": 81
    },
    {
     "cell_type": "code",
     "collapsed": false,
     "input": [
      "for links in pdf_assets:\n",
      "    print(links.get('href'))"
     ],
     "language": "python",
     "metadata": {},
     "outputs": [
      {
       "output_type": "stream",
       "stream": "stdout",
       "text": [
        "pdf_assets/5945-Posterlo11.pdf\n"
       ]
      }
     ],
     "prompt_number": 90
    },
    {
     "cell_type": "markdown",
     "metadata": {},
     "source": [
      "Since you'd loop through it we want the first (and only) object"
     ]
    },
    {
     "cell_type": "code",
     "collapsed": false,
     "input": [
      "pdf_assets[0]['href']"
     ],
     "language": "python",
     "metadata": {},
     "outputs": [
      {
       "metadata": {},
       "output_type": "pyout",
       "prompt_number": 284,
       "text": [
        "'pdf_assets/5945-Posterlo11.pdf'"
       ]
      }
     ],
     "prompt_number": 284
    },
    {
     "cell_type": "code",
     "collapsed": false,
     "input": [
      "pdf_assets[0].get('href')"
     ],
     "language": "python",
     "metadata": {},
     "outputs": [
      {
       "metadata": {},
       "output_type": "pyout",
       "prompt_number": 287,
       "text": [
        "'pdf_assets/5945-Posterlo11.pdf'"
       ]
      }
     ],
     "prompt_number": 287
    },
    {
     "cell_type": "code",
     "collapsed": false,
     "input": [
      "dl_link = \"http://www.page-meeting.org/\" + pdf_assets[0]['href']"
     ],
     "language": "python",
     "metadata": {},
     "outputs": [],
     "prompt_number": 125
    },
    {
     "cell_type": "code",
     "collapsed": false,
     "input": [
      "dl_link"
     ],
     "language": "python",
     "metadata": {},
     "outputs": [
      {
       "metadata": {},
       "output_type": "pyout",
       "prompt_number": 126,
       "text": [
        "'http://www.page-meeting.org/pdf_assets/5945-Posterlo11.pdf'"
       ]
      }
     ],
     "prompt_number": 126
    },
    {
     "cell_type": "markdown",
     "metadata": {},
     "source": [
      "download the pdf from the link\n",
      "\n",
      "http://www.page-meeting.org/pdf_assets/5945-Posterlo11.pdf"
     ]
    },
    {
     "cell_type": "code",
     "collapsed": false,
     "input": [
      "remote_file = urlopen(dl_link)"
     ],
     "language": "python",
     "metadata": {},
     "outputs": [],
     "prompt_number": 152
    },
    {
     "cell_type": "markdown",
     "metadata": {},
     "source": [
      "'wb' allows to write binary rather than just str"
     ]
    },
    {
     "cell_type": "code",
     "collapsed": false,
     "input": [
      "localFile = open(\"test_poster.pdf\", 'wb')"
     ],
     "language": "python",
     "metadata": {},
     "outputs": [],
     "prompt_number": 150
    },
    {
     "cell_type": "markdown",
     "metadata": {},
     "source": [
      "note: for whatever reason if you do remote_file.read() then also try to call it again inside localFile.write it will not work properly and you have to re-read in the remote_file for some reason"
     ]
    },
    {
     "cell_type": "code",
     "collapsed": false,
     "input": [
      "localFile.write(remote_file.read())"
     ],
     "language": "python",
     "metadata": {},
     "outputs": [
      {
       "metadata": {},
       "output_type": "pyout",
       "prompt_number": 153,
       "text": [
        "3436518"
       ]
      }
     ],
     "prompt_number": 153
    },
    {
     "cell_type": "code",
     "collapsed": false,
     "input": [
      "localFile.close()"
     ],
     "language": "python",
     "metadata": {},
     "outputs": [],
     "prompt_number": 154
    },
    {
     "cell_type": "markdown",
     "metadata": {},
     "source": [
      "## Take above code and encapulate in a function"
     ]
    },
    {
     "cell_type": "code",
     "collapsed": false,
     "input": [
      "def has_dl(soup):\n",
      "    pdf_assets = soup.find_all(href=re.compile(\"pdf_assets\"))\n",
      "    if(len(pdf_assets) < 1): \n",
      "        return(False)\n",
      "    else:\n",
      "        return(True)"
     ],
     "language": "python",
     "metadata": {},
     "outputs": [],
     "prompt_number": 173
    },
    {
     "cell_type": "code",
     "collapsed": false,
     "input": [
      "url_ext = 'default.asp?abstract=2693'\n",
      "has_dl(soup)"
     ],
     "language": "python",
     "metadata": {},
     "outputs": [
      {
       "metadata": {},
       "output_type": "pyout",
       "prompt_number": 176,
       "text": [
        "True"
       ]
      }
     ],
     "prompt_number": 176
    },
    {
     "cell_type": "code",
     "collapsed": false,
     "input": [
      " def get_soup(url_ext, base_url = 'http://www.page-meeting.org/'):\n",
      "    url = base_url + url_ext\n",
      "    url_html = urlopen(url).read()\n",
      "    soup = BeautifulSoup(url_html)\n",
      "    return(soup)"
     ],
     "language": "python",
     "metadata": {},
     "outputs": [],
     "prompt_number": 178
    },
    {
     "cell_type": "code",
     "collapsed": false,
     "input": [
      "soup = get_soup(url_ext)"
     ],
     "language": "python",
     "metadata": {},
     "outputs": [],
     "prompt_number": 191
    },
    {
     "cell_type": "code",
     "collapsed": false,
     "input": [
      "print(soup.h2.text)\n",
      "print(soup.h3.text)\n"
     ],
     "language": "python",
     "metadata": {},
     "outputs": [
      {
       "output_type": "stream",
       "stream": "stdout",
       "text": [
        "I-21 Heiner\u00a0Speth Referenced Visual Predictive Check (rVPC)\n",
        "Poster: Model Evaluation\n"
       ]
      }
     ],
     "prompt_number": 206
    },
    {
     "cell_type": "code",
     "collapsed": false,
     "input": [
      "paragraphs = soup.find_all('p')"
     ],
     "language": "python",
     "metadata": {},
     "outputs": [],
     "prompt_number": 212
    },
    {
     "cell_type": "code",
     "collapsed": false,
     "input": [
      "print(*paragraphs, sep='\\n\\n')\n"
     ],
     "language": "python",
     "metadata": {},
     "outputs": [
      {
       "output_type": "stream",
       "stream": "stdout",
       "text": [
        "<p><strong><h2>I-21 <a class=\"author\" href=\"/default.asp?id=&amp;keuze=profile&amp;profile_id=458\">Heiner\u00a0Speth</a> Referenced Visual Predictive Check (rVPC)</h2></strong></p>\n",
        "\n",
        "<p>Heiner Speth, Martin Burschka, Ruediger Port</p>\n",
        "\n",
        "<p></p>\n",
        "\n",
        "<p><strong>Objectives:</strong> The prediction-corrected VPC (pcVPC) [1] reduces the variance in the observed data and in the model distributions by normalizing to an \"identically distributed\" situation for all individuals. The computation of the prediction correction factor for each bin separately, limits this method to situations of balanced data within each bin. The goal is to extend the prediction-corrected VPC to situations of sparse and unbalanced data by avoiding binning on the independent variable (idv) scale and to show:\u00a0<br/>1. The equivalence of the new rVPC method to the pcVPC in cases of balanced data.<br/>2. The robustness of the rVPC in cases of sparse and unbalanced data.<br/>In addition to model evaluation, the rVPC is to provide a base for discussion with clinicians on dosing adequacy in untypical individuals.</p>\n",
        "\n",
        "<p><strong>Methods:</strong> For every observation, the model is requested to give a normalized prediction, based on a data tuple of normalized covariate values (reference) and the same random effects from the fit for this observation. The implementation is particularly simple in NONMEM.</p>\n",
        "\n",
        "<p><strong>Results:</strong> The rVPC is independent from binning and calculates the correct reference factor in any observed/ simulated data-point.</p>\n",
        "\n",
        "<p><strong>Conclusions:</strong> The rVPC implements the idea of covariate adjusting to any kind of data and allows an arbitrary choice of referenced covariate values.</p>\n",
        "\n",
        "<p><strong>References:</strong> <br/>[1] Bergstrand, M., Hooker, A.C., Wallin, J.E., Karlsson, M.O.: Prediction-corrected visual predictive checks for diagnosing nonlinear mixed-e\ufb00ects models. The AAPS Journal pp. 1-9 (2011)<br/></p>\n"
       ]
      }
     ],
     "prompt_number": 224
    },
    {
     "cell_type": "code",
     "collapsed": false,
     "input": [
      "for pg in paragraphs:\n",
      "    print(pg.text)"
     ],
     "language": "python",
     "metadata": {},
     "outputs": [
      {
       "output_type": "stream",
       "stream": "stdout",
       "text": [
        "I-21 Heiner\u00a0Speth Referenced Visual Predictive Check (rVPC)\n",
        "Heiner Speth, Martin Burschka, Ruediger Port\n",
        "\n",
        "Objectives: The prediction-corrected VPC (pcVPC) [1] reduces the variance in the observed data and in the model distributions by normalizing to an \"identically distributed\" situation for all individuals. The computation of the prediction correction factor for each bin separately, limits this method to situations of balanced data within each bin. The goal is to extend the prediction-corrected VPC to situations of sparse and unbalanced data by avoiding binning on the independent variable (idv) scale and to show:\u00a01. The equivalence of the new rVPC method to the pcVPC in cases of balanced data.2. The robustness of the rVPC in cases of sparse and unbalanced data.In addition to model evaluation, the rVPC is to provide a base for discussion with clinicians on dosing adequacy in untypical individuals.\n",
        "Methods: For every observation, the model is requested to give a normalized prediction, based on a data tuple of normalized covariate values (reference) and the same random effects from the fit for this observation. The implementation is particularly simple in NONMEM.\n",
        "Results: The rVPC is independent from binning and calculates the correct reference factor in any observed/ simulated data-point.\n",
        "Conclusions: The rVPC implements the idea of covariate adjusting to any kind of data and allows an arbitrary choice of referenced covariate values.\n",
        "References: [1] Bergstrand, M., Hooker, A.C., Wallin, J.E., Karlsson, M.O.: Prediction-corrected visual predictive checks for diagnosing nonlinear mixed-e\ufb00ects models. The AAPS Journal pp. 1-9 (2011)\n"
       ]
      }
     ],
     "prompt_number": 227
    },
    {
     "cell_type": "code",
     "collapsed": false,
     "input": [
      "pattern = 'Objectives:'\n",
      "for pg in paragraphs:\n",
      "    print(pg.tag)\n",
      "    # re.search(pattern, pg.string)\n",
      "#indices = [i for i, x in enumerate(paragraphs) if re.search(pattern, x)]"
     ],
     "language": "python",
     "metadata": {},
     "outputs": [
      {
       "output_type": "stream",
       "stream": "stdout",
       "text": [
        "None\n",
        "None\n",
        "None\n",
        "None\n",
        "None\n",
        "None\n",
        "None\n",
        "None\n"
       ]
      }
     ],
     "prompt_number": 244
    },
    {
     "cell_type": "code",
     "collapsed": false,
     "input": [
      "paragraphs[3].contents[0].string"
     ],
     "language": "python",
     "metadata": {},
     "outputs": [
      {
       "metadata": {},
       "output_type": "pyout",
       "prompt_number": 258,
       "text": [
        "'Objectives:'"
       ]
      }
     ],
     "prompt_number": 258
    },
    {
     "cell_type": "code",
     "collapsed": false,
     "input": [
      "paragraphs[3].contents[0].string == \"Objectives:\""
     ],
     "language": "python",
     "metadata": {},
     "outputs": [
      {
       "metadata": {},
       "output_type": "pyout",
       "prompt_number": 260,
       "text": [
        "True"
       ]
      }
     ],
     "prompt_number": 260
    },
    {
     "cell_type": "code",
     "collapsed": false,
     "input": [
      "print(paragraphs[3].contents)"
     ],
     "language": "python",
     "metadata": {},
     "outputs": [
      {
       "output_type": "stream",
       "stream": "stdout",
       "text": [
        "[<strong>Objectives:</strong>, ' The prediction-corrected VPC (pcVPC) [1] reduces the variance in the observed data and in the model distributions by normalizing to an \"identically distributed\" situation for all individuals. The computation of the prediction correction factor for each bin separately, limits this method to situations of balanced data within each bin. The goal is to extend the prediction-corrected VPC to situations of sparse and unbalanced data by avoiding binning on the independent variable (idv) scale and to show:\\xa0', <br/>, '1. The equivalence of the new rVPC method to the pcVPC in cases of balanced data.', <br/>, '2. The robustness of the rVPC in cases of sparse and unbalanced data.', <br/>, 'In addition to model evaluation, the rVPC is to provide a base for discussion with clinicians on dosing adequacy in untypical individuals.']\n"
       ]
      }
     ],
     "prompt_number": 281
    },
    {
     "cell_type": "code",
     "collapsed": false,
     "input": [
      "for ct in paragraphs[3].contents:\n",
      "    print(ct)"
     ],
     "language": "python",
     "metadata": {},
     "outputs": [
      {
       "output_type": "stream",
       "stream": "stdout",
       "text": [
        "<strong>Objectives:</strong>\n",
        " The prediction-corrected VPC (pcVPC) [1] reduces the variance in the observed data and in the model distributions by normalizing to an \"identically distributed\" situation for all individuals. The computation of the prediction correction factor for each bin separately, limits this method to situations of balanced data within each bin. The goal is to extend the prediction-corrected VPC to situations of sparse and unbalanced data by avoiding binning on the independent variable (idv) scale and to show:\u00a0\n",
        "<br/>\n",
        "1. The equivalence of the new rVPC method to the pcVPC in cases of balanced data.\n",
        "<br/>\n",
        "2. The robustness of the rVPC in cases of sparse and unbalanced data.\n",
        "<br/>\n",
        "In addition to model evaluation, the rVPC is to provide a base for discussion with clinicians on dosing adequacy in untypical individuals.\n"
       ]
      }
     ],
     "prompt_number": 282
    },
    {
     "cell_type": "code",
     "collapsed": false,
     "input": [
      "soup.p"
     ],
     "language": "python",
     "metadata": {},
     "outputs": [
      {
       "metadata": {},
       "output_type": "pyout",
       "prompt_number": 283,
       "text": [
        "<p><strong><h2>I-21 <a class=\"author\" href=\"/default.asp?id=&amp;keuze=profile&amp;profile_id=458\">Heiner\u00a0Speth</a> Referenced Visual Predictive Check (rVPC)</h2></strong></p>"
       ]
      }
     ],
     "prompt_number": 283
    }
   ],
   "metadata": {}
  }
 ]
}